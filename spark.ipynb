{
 "cells": [
  {
   "cell_type": "code",
   "execution_count": 66,
   "outputs": [
    {
     "name": "stdout",
     "text": [
      "root\n",
      " |-- _id: struct (nullable = true)\n",
      " |    |-- oid: string (nullable = true)\n",
      " |-- amount: string (nullable = true)\n",
      " |-- data-energy-drink: string (nullable = true)\n",
      " |-- data-group-quantity: string (nullable = true)\n",
      " |-- old_price: string (nullable = true)\n",
      " |-- data-old-price-per-kg: string (nullable = true)\n",
      " |-- datetm: timestamp (nullable = true)\n",
      " |-- item_weight: string (nullable = true)\n",
      " |-- name: string (nullable = true)\n",
      " |-- price: string (nullable = true)\n",
      " |-- price_per_kg: string (nullable = true)\n",
      " |-- product_id: string (nullable = true)\n",
      " |-- type: string (nullable = true)\n",
      " |-- url: string (nullable = true)\n",
      " |-- weight: string (nullable = true)\n",
      "\n",
      "root\n",
      " |-- _id: struct (nullable = true)\n",
      " |    |-- oid: string (nullable = true)\n",
      " |-- amount: string (nullable = true)\n",
      " |-- data-energy-drink: string (nullable = true)\n",
      " |-- data-group-quantity: string (nullable = true)\n",
      " |-- old_price: string (nullable = true)\n",
      " |-- data-old-price-per-kg: string (nullable = true)\n",
      " |-- datetm: timestamp (nullable = true)\n",
      " |-- name: string (nullable = true)\n",
      " |-- price: string (nullable = true)\n",
      " |-- price_per_kg: string (nullable = true)\n",
      " |-- product_id: string (nullable = true)\n",
      " |-- type: string (nullable = true)\n",
      " |-- url: string (nullable = true)\n",
      " |-- weight: string (nullable = true)\n",
      "\n",
      "root\n",
      " |-- _id: struct (nullable = true)\n",
      " |    |-- oid: string (nullable = true)\n",
      " |-- amount: string (nullable = true)\n",
      " |-- data-energy-drink: string (nullable = true)\n",
      " |-- data-group-quantity: string (nullable = true)\n",
      " |-- old_price: string (nullable = true)\n",
      " |-- data-old-price-per-kg: string (nullable = true)\n",
      " |-- datetm: timestamp (nullable = true)\n",
      " |-- item_weight: string (nullable = true)\n",
      " |-- name: string (nullable = true)\n",
      " |-- price: string (nullable = true)\n",
      " |-- price_per_kg: string (nullable = true)\n",
      " |-- product_id: string (nullable = true)\n",
      " |-- type: string (nullable = true)\n",
      " |-- url: string (nullable = true)\n",
      " |-- weight: string (nullable = true)\n",
      "\n",
      "root\n",
      " |-- _id: struct (nullable = true)\n",
      " |    |-- oid: string (nullable = true)\n",
      " |-- amount: string (nullable = true)\n",
      " |-- data-energy-drink: string (nullable = true)\n",
      " |-- data-group-quantity: string (nullable = true)\n",
      " |-- old_price: string (nullable = true)\n",
      " |-- data-old-price-per-kg: string (nullable = true)\n",
      " |-- datetm: timestamp (nullable = true)\n",
      " |-- item_weight: string (nullable = true)\n",
      " |-- name: string (nullable = true)\n",
      " |-- price: string (nullable = true)\n",
      " |-- price_per_kg: string (nullable = true)\n",
      " |-- product_id: string (nullable = true)\n",
      " |-- type: string (nullable = true)\n",
      " |-- url: string (nullable = true)\n",
      " |-- weight: string (nullable = true)\n",
      "\n"
     ],
     "output_type": "stream"
    }
   ],
   "source": [
    "from pyspark.sql import SparkSession\n",
    "from pyspark.sql.types import IntegerType, FloatType, StringType\n",
    "spark = SparkSession.builder.\\\n",
    "    config('spark.jars.packages','org.mongodb.spark:mongo-spark-connector_2.11:2.3.2').getOrCreate()\n",
    "lenta = spark.read.format('com.mongodb.spark.sql.DefaultSource').option(\"uri\", \"mongodb://127.0.0.1/food_db.lenta\").load()\n",
    "metro = spark.read.format('com.mongodb.spark.sql.DefaultSource').option(\"uri\", \"mongodb://127.0.0.1/food_db.metro\").load()\n",
    "prisma = spark.read.format('com.mongodb.spark.sql.DefaultSource').option(\"uri\", \"mongodb://127.0.0.1/food_db.prisma\").load()\n",
    "carusel = spark.read.format('com.mongodb.spark.sql.DefaultSource').option(\"uri\", \"mongodb://127.0.0.1/food_db.carusel\").load()\n",
    "\n",
    "lenta = lenta.withColumnRenamed(\"data-old-price\",\"old_price\")\n",
    "metro = metro.withColumnRenamed(\"data-old-price\",\"old_price\")\n",
    "prisma = prisma.withColumnRenamed(\"data-old-price\",\"old_price\")\n",
    "carusel = carusel.withColumnRenamed(\"data-old-price\",\"old_price\")\n",
    "l = lenta.alias('l')\n",
    "m = metro.alias('m')\n",
    "p = prisma.alias('p')\n",
    "c = carusel.alias('c')\n",
    "l.printSchema()\n",
    "m.printSchema()\n",
    "p.printSchema()\n",
    "c.printSchema()"
   ],
   "metadata": {
    "collapsed": false,
    "pycharm": {
     "name": "#%%\n",
     "is_executing": false
    }
   }
  },
  {
   "cell_type": "code",
   "execution_count": 67,
   "outputs": [],
   "source": [
    "joined = l.join(m, ['name', 'weight']). \\\n",
    "    join(p, ['name', 'weight']).\\\n",
    "    join(c, ['name', 'weight']).\\\n",
    "    selectExpr('l.name as l_name', 'l.weight as l_weight',\n",
    "               'l.price as l_price', 'm.price as m_price', 'p.price as p_price', 'c.price as c_price',\n",
    "               'l.old_price as l_old_price', 'm.old_price as m_old_price', 'p.old_price as p_old_price', 'c.old_price as c_old_price',\n",
    "               ).sort('name', 'weight')"
   ],
   "metadata": {
    "collapsed": false,
    "pycharm": {
     "name": "#%%\n",
     "is_executing": false
    }
   }
  },
  {
   "cell_type": "code",
   "execution_count": 68,
   "outputs": [
    {
     "name": "stdout",
     "text": [
      "before distinct 31710\n",
      "after distinct 1723\n"
     ],
     "output_type": "stream"
    }
   ],
   "source": [
    "print('before distinct', joined.count())\n",
    "joined = joined.distinct()\n",
    "print('after distinct', joined.count())"
   ],
   "metadata": {
    "collapsed": false,
    "pycharm": {
     "name": "#%%\n",
     "is_executing": false
    }
   }
  },
  {
   "cell_type": "code",
   "execution_count": 69,
   "outputs": [
    {
     "name": "stdout",
     "text": [
      "1723\n",
      "+--------------------------------------------------+--------+-------+-------+-------+-------+-----------+-----------+-----------+-----------+\n",
      "|                                            l_name|l_weight|l_price|m_price|p_price|c_price|l_old_price|m_old_price|p_old_price|c_old_price|\n",
      "+--------------------------------------------------+--------+-------+-------+-------+-------+-----------+-----------+-----------+-----------+\n",
      "|        Драже Клубничный микс ТМ Tic Tac (Тик Так)|      16|  42.19|   47.0|   44.9|   47.0|       null|       null|       null|       null|\n",
      "|Лапша быстрого приготовления вкус курицы ТМ Дош...|      70|  19.89|  16.48|   18.9|  16.48|       null|       null|       null|       null|\n",
      "|Средство для мытья посуды Нежные ручки Ромашка ...|     900| 177.59|   99.0|  139.9|   99.0|       null|      169.0|      199.9|      169.0|\n",
      "|               Форель слабосоленая ТМ Русское Море|     120| 283.09|  310.0|  346.9|  310.0|       null|       null|       null|       null|\n",
      "|                 Шоколад молочный ТМ Milka (Милка)|      90|  48.39|  104.0|  114.9|  104.0|     115.79|       null|       null|       null|\n",
      "|              Журнал для автомобилиста ТМ За рулём|      50| 127.99|  129.0|  185.0|  129.0|       null|       null|       null|       null|\n",
      "|Икра красная имитированная слабосоленая ТМ Русс...|     120|  89.49|  110.0|  134.9|  110.0|       null|       null|       null|       null|\n",
      "|      Йогурт с малиной и злаками  ТМ Valio (Валио)|     330|  60.29|  60.39|   47.9|  60.39|       null|       null|       60.9|       null|\n",
      "|     Коктейль молочный шоколад 1,2% ТМ Белый Город|     500|  46.39|  53.29|   39.9|  53.29|       null|       null|       49.9|       null|\n",
      "|                    Лавровый лист ТМ Kamis (Камис)|       5|  28.99|   42.0|   50.9|   42.0|      48.59|       null|       null|       null|\n",
      "|Сухой шампунь Original (Ориджинал) ТМ Batiste (...|     200| 480.19|  452.0|  549.9|  452.0|       null|       null|       null|       null|\n",
      "|       Вода питьевая газированная ТМ Аква Минерале|     500|  38.59|  36.79|   39.9|  36.79|       null|       null|       null|       null|\n",
      "|Колбаса полукопченая Сервелат Элитный ТМ Pit-Pr...|     250| 226.39|  205.0|  299.9|  205.0|       null|       null|       null|       null|\n",
      "|    Мороженое эскимо в шоколаде Брюнетка ТМ Магнат|      74|  49.89|  81.48|   89.9|  81.48|      78.99|       null|       null|       null|\n",
      "|Напиток энергетический Black Monster Energy dri...|     500| 105.09|   99.0|  119.9|   99.0|       null|       null|       null|       null|\n",
      "|Пена для укладки ТМ Taft (Тафт) три погоды супе...|     150| 239.99|  144.9|  344.9|  144.9|     277.49|      240.0|       null|      240.0|\n",
      "|      Чистящее средство для унитаза ТМ Bref (Бреф)|      50|  78.99|  145.0|  159.9|  145.0|     153.69|       null|       null|       null|\n",
      "|Гель для бритья Series (Сериес) для чувствитель...|     196| 192.99|  310.0|  399.9|  310.0|     354.79|       null|       null|       null|\n",
      "|Йогурт Малибу смусси Медовая дыня, семена чиа 2...|     140|  52.39|   35.0|   36.9|   35.0|       null|       null|       49.9|       null|\n",
      "|       Кофе молотый жареный По-Восточному ТМ Жокей|     250| 118.89|  199.0|  199.9|  199.0|     172.69|       null|       null|       null|\n",
      "+--------------------------------------------------+--------+-------+-------+-------+-------+-----------+-----------+-----------+-----------+\n",
      "only showing top 20 rows\n",
      "\n"
     ],
     "output_type": "stream"
    }
   ],
   "source": [
    "print(joined.count())\n",
    "joined.show(truncate=50)"
   ],
   "metadata": {
    "collapsed": false,
    "pycharm": {
     "name": "#%%\n",
     "is_executing": false
    }
   }
  },
  {
   "cell_type": "code",
   "execution_count": 70,
   "outputs": [],
   "source": [
    "joined.coalesce(1).write.csv('joined.csv', mode='overwrite', sep='\\t', nullValue = '\\u0000',\n",
    "    emptyValue = '\\u0000', header=True)"
   ],
   "metadata": {
    "collapsed": false,
    "pycharm": {
     "name": "#%% \n",
     "is_executing": false
    }
   }
  },
  {
   "cell_type": "code",
   "execution_count": 65,
   "outputs": [],
   "source": [],
   "metadata": {
    "collapsed": false,
    "pycharm": {
     "name": "#%%\n",
     "is_executing": false
    }
   }
  },
  {
   "cell_type": "code",
   "execution_count": 84,
   "outputs": [
    {
     "name": "stdout",
     "text": [
      "root\n",
      " |-- cat: string (nullable = true)\n",
      " |-- data-amount: string (nullable = true)\n",
      " |-- data-energy-drink: string (nullable = true)\n",
      " |-- data-group-quantity: string (nullable = true)\n",
      " |-- data-item-weight: string (nullable = true)\n",
      " |-- data-old-price: string (nullable = true)\n",
      " |-- data-old-price-per-kg: string (nullable = true)\n",
      " |-- data-price: string (nullable = true)\n",
      " |-- data-price-per-kg: string (nullable = true)\n",
      " |-- data-product-id: string (nullable = true)\n",
      " |-- data-type: string (nullable = true)\n",
      " |-- data-weight: string (nullable = true)\n",
      " |-- datetm: string (nullable = true)\n",
      " |-- name: string (nullable = true)\n",
      " |-- shop: string (nullable = true)\n",
      " |-- url: string (nullable = true)\n",
      "\n",
      "DataFrame[cat: string, data-amount: string, data-energy-drink: string, data-group-quantity: string, data-item-weight: string, data-old-price: string, data-old-price-per-kg: string, data-price: string, data-price-per-kg: string, data-product-id: string, data-type: string, data-weight: string, datetm: string, name: string, shop: string, url: string]\n",
      "+---+-----------+-----------------+-------------------+----------------+--------------+---------------------+----------+-----------------+---------------+---------+-----------+--------------------+--------------------+-----+--------------------+\n",
      "|cat|data-amount|data-energy-drink|data-group-quantity|data-item-weight|data-old-price|data-old-price-per-kg|data-price|data-price-per-kg|data-product-id|data-type|data-weight|              datetm|                name| shop|                 url|\n",
      "+---+-----------+-----------------+-------------------+----------------+--------------+---------------------+----------+-----------------+---------------+---------+-----------+--------------------+--------------------+-----+--------------------+\n",
      "|  1|          0|             null|               null|            null|          null|                 null|     119.9|          11990.0|        4047135|    piece|         10|2020-03-15 16:36:...|Микро зелень Керв...|metro|/products/138039-...|\n",
      "|  1|          0|             null|               null|            null|          null|                 null|    499.89|           9997.8|         137980|    piece|         50|2020-03-15 16:36:...|Кешью обжаренный ...|metro|/products/31423-k...|\n",
      "|  1|          0|             null|               null|            null|          null|                 null|    469.89|           3132.6|         669869|    piece|        150|2020-03-15 16:36:...|Фундук обжаренный...|metro|/products/61493-f...|\n",
      "|  1|          0|             null|               null|            null|          null|                 null|     839.9|          1049.88|        2712971|    piece|        800|2020-03-15 16:36:...|Смесь соленая с о...|metro|/products/100672-...|\n",
      "|  1|          0|             null|               null|            null|          null|                 null|     104.5|           5225.0|         683407|    piece|         20|2020-03-15 16:36:...|Горчица осака ТМ ...|metro|/products/63312-g...|\n",
      "|  1|          0|             null|                 14|            null|          null|                 null|     239.9|           571.19|        1621151|    piece|        420|2020-03-15 16:36:...|Арахис жареный по...|metro|/products/61542-a...|\n",
      "|  1|          0|             null|               null|            null|          null|                 null|    199.89|           1332.6|        1139578|    piece|        150|2020-03-15 16:36:...|Конфеты Фруктовый...|metro|/products/73652-k...|\n",
      "|  1|          0|             null|               null|            null|          69.9|               1165.0|     55.89|            931.5|        3511910|    piece|         60|2020-03-15 16:36:...|Арахис Crasssh Ch...|metro|/products/130500-...|\n",
      "|  1|          0|             null|               null|            null|          null|                 null|    139.89|            466.3|        5143494|    piece|        300|2020-03-15 16:36:...|Кокосовый орех оч...|metro|/products/166403-...|\n",
      "|  1|          0|             null|               null|            null|          null|                 null|     129.9|            433.0|        5147882|    piece|        300|2020-03-15 16:36:...|Компотная смесь Т...|metro|/products/166557-...|\n",
      "|  1|          0|             null|               null|            null|          null|                 null|     199.9|           666.33|         249031|    piece|        300|2020-03-15 16:36:...|Набор свежих овощ...|metro|/products/41165-n...|\n",
      "|  1|          0|             null|               null|            null|          null|                 null|     839.9|           4199.5|         130938|    piece|        200|2020-03-15 16:36:...|Кедровые орешки о...|metro|/products/2033-ke...|\n",
      "|  1|          0|             null|               null|            null|          null|                 null|     580.0|           1160.0|        2713352|    piece|        500|2020-03-15 16:36:...|Миндаль жареный с...|metro|/products/100693-...|\n",
      "|  1|          0|             null|                  6|            null|          null|                 null|     94.89|            316.3|         139125|    piece|        300|2020-03-15 16:36:...|Арахис обжаренный...|metro|/products/31424-a...|\n",
      "|  1|          0|             null|               null|            null|          null|                 null|     764.9|          5099.33|        2704606|    piece|        150|2020-03-15 16:36:...|Макадамия сушеная...|metro|/products/100289-...|\n",
      "|  1|          0|             null|               null|            null|          null|                 null|      59.9|            119.8|        5056131|    piece|        500|2020-03-15 16:36:...|Свекла отварная н...|metro|/products/156129-...|\n",
      "|  1|          0|             null|               null|            null|          null|                 null|    359.89|           719.78|        1441934|    piece|        500|2020-03-15 16:36:...|  Персики в корзинке|metro|/products/3642-pe...|\n",
      "|  1|          0|             null|               null|            null|          null|                 null|     189.9|           1519.2|        2269420|    piece|        125|2020-03-15 16:36:...|Салат мини-шпинат...|metro|/products/89443-s...|\n",
      "|  1|          0|             null|               null|            null|          null|                 null|     73.09|           487.27|         630513|    piece|        150|2020-03-15 16:36:...|Семечки полосатые...|metro|/products/59165-s...|\n",
      "|  1|          0|             null|               null|            null|          null|                 null|     189.9|            949.5|        5067289|    piece|        200|2020-03-15 16:36:...|Семечки подсолнеч...|metro|/products/108076-...|\n",
      "+---+-----------+-----------------+-------------------+----------------+--------------+---------------------+----------+-----------------+---------------+---------+-----------+--------------------+--------------------+-----+--------------------+\n",
      "only showing top 20 rows\n",
      "\n"
     ],
     "output_type": "stream"
    }
   ],
   "source": [
    "from pyspark.sql import SparkSession\n",
    "from pyspark.sql.functions import regexp_replace\n",
    "spark = SparkSession.builder.\\\n",
    "    config('spark.jars.packages','org.mongodb.spark:mongo-spark-connector_2.11:2.3.2').getOrCreate()\n",
    "c = spark.read.json('/home/comp/Documents/src/food/data_20_03_15-16_35_58_.json')\n",
    "c.printSchema()\n",
    "print(c)\n",
    "c.show()\n",
    "c = c.drop('_id', 'insert_datetm')\n",
    "c.write.parquet('./store/carusel.parquet')\n",
    "c.write.csv('./store/carusel.csv')\n",
    "c.write.json('./store/caruse.json')"
   ],
   "metadata": {
    "collapsed": false,
    "pycharm": {
     "name": "#%%\n",
     "is_executing": false
    }
   }
  },
  {
   "cell_type": "code",
   "execution_count": 53,
   "outputs": [
    {
     "name": "stdout",
     "text": [
      "root\n",
      " |-- cat: string (nullable = true)\n",
      " |-- data-amount: string (nullable = true)\n",
      " |-- data-energy-drink: string (nullable = true)\n",
      " |-- data-group-quantity: string (nullable = true)\n",
      " |-- data-item-weight: string (nullable = true)\n",
      " |-- data-old-price: string (nullable = true)\n",
      " |-- data-old-price-per-kg: string (nullable = true)\n",
      " |-- data-price: string (nullable = true)\n",
      " |-- data-price-per-kg: string (nullable = true)\n",
      " |-- data-product-id: string (nullable = true)\n",
      " |-- data-type: string (nullable = true)\n",
      " |-- data-weight: string (nullable = true)\n",
      " |-- datetm: string (nullable = true)\n",
      " |-- name: string (nullable = true)\n",
      " |-- shop: string (nullable = true)\n",
      " |-- url: string (nullable = true)\n",
      "\n",
      "DataFrame[cat: string, data-amount: string, data-energy-drink: string, data-group-quantity: string, data-item-weight: string, data-old-price: string, data-old-price-per-kg: string, data-price: string, data-price-per-kg: string, data-product-id: string, data-type: string, data-weight: string, datetm: string, name: string, shop: string, url: string]\n",
      "+---+-----------+-----------------+-------------------+----------------+--------------+---------------------+----------+-----------------+---------------+---------+-----------+--------------------+--------------------+-----+--------------------+\n",
      "|cat|data-amount|data-energy-drink|data-group-quantity|data-item-weight|data-old-price|data-old-price-per-kg|data-price|data-price-per-kg|data-product-id|data-type|data-weight|              datetm|                name| shop|                 url|\n",
      "+---+-----------+-----------------+-------------------+----------------+--------------+---------------------+----------+-----------------+---------------+---------+-----------+--------------------+--------------------+-----+--------------------+\n",
      "|  1|          0|             null|               null|            null|          null|                 null|     119.9|          11990.0|        4047135|    piece|         10|2020-03-15 16:36:...|Микро зелень Керв...|metro|/products/138039-...|\n",
      "|  1|          0|             null|               null|            null|          null|                 null|    499.89|           9997.8|         137980|    piece|         50|2020-03-15 16:36:...|Кешью обжаренный ...|metro|/products/31423-k...|\n",
      "|  1|          0|             null|               null|            null|          null|                 null|    469.89|           3132.6|         669869|    piece|        150|2020-03-15 16:36:...|Фундук обжаренный...|metro|/products/61493-f...|\n",
      "|  1|          0|             null|               null|            null|          null|                 null|     839.9|          1049.88|        2712971|    piece|        800|2020-03-15 16:36:...|Смесь соленая с о...|metro|/products/100672-...|\n",
      "|  1|          0|             null|               null|            null|          null|                 null|     104.5|           5225.0|         683407|    piece|         20|2020-03-15 16:36:...|Горчица осака ТМ ...|metro|/products/63312-g...|\n",
      "|  1|          0|             null|                 14|            null|          null|                 null|     239.9|           571.19|        1621151|    piece|        420|2020-03-15 16:36:...|Арахис жареный по...|metro|/products/61542-a...|\n",
      "|  1|          0|             null|               null|            null|          null|                 null|    199.89|           1332.6|        1139578|    piece|        150|2020-03-15 16:36:...|Конфеты Фруктовый...|metro|/products/73652-k...|\n",
      "|  1|          0|             null|               null|            null|          69.9|               1165.0|     55.89|            931.5|        3511910|    piece|         60|2020-03-15 16:36:...|Арахис Crasssh Ch...|metro|/products/130500-...|\n",
      "|  1|          0|             null|               null|            null|          null|                 null|    139.89|            466.3|        5143494|    piece|        300|2020-03-15 16:36:...|Кокосовый орех оч...|metro|/products/166403-...|\n",
      "|  1|          0|             null|               null|            null|          null|                 null|     129.9|            433.0|        5147882|    piece|        300|2020-03-15 16:36:...|Компотная смесь Т...|metro|/products/166557-...|\n",
      "|  1|          0|             null|               null|            null|          null|                 null|     199.9|           666.33|         249031|    piece|        300|2020-03-15 16:36:...|Набор свежих овощ...|metro|/products/41165-n...|\n",
      "|  1|          0|             null|               null|            null|          null|                 null|     839.9|           4199.5|         130938|    piece|        200|2020-03-15 16:36:...|Кедровые орешки о...|metro|/products/2033-ke...|\n",
      "|  1|          0|             null|               null|            null|          null|                 null|     580.0|           1160.0|        2713352|    piece|        500|2020-03-15 16:36:...|Миндаль жареный с...|metro|/products/100693-...|\n",
      "|  1|          0|             null|                  6|            null|          null|                 null|     94.89|            316.3|         139125|    piece|        300|2020-03-15 16:36:...|Арахис обжаренный...|metro|/products/31424-a...|\n",
      "|  1|          0|             null|               null|            null|          null|                 null|     764.9|          5099.33|        2704606|    piece|        150|2020-03-15 16:36:...|Макадамия сушеная...|metro|/products/100289-...|\n",
      "|  1|          0|             null|               null|            null|          null|                 null|      59.9|            119.8|        5056131|    piece|        500|2020-03-15 16:36:...|Свекла отварная н...|metro|/products/156129-...|\n",
      "|  1|          0|             null|               null|            null|          null|                 null|    359.89|           719.78|        1441934|    piece|        500|2020-03-15 16:36:...|  Персики в корзинке|metro|/products/3642-pe...|\n",
      "|  1|          0|             null|               null|            null|          null|                 null|     189.9|           1519.2|        2269420|    piece|        125|2020-03-15 16:36:...|Салат мини-шпинат...|metro|/products/89443-s...|\n",
      "|  1|          0|             null|               null|            null|          null|                 null|     73.09|           487.27|         630513|    piece|        150|2020-03-15 16:36:...|Семечки полосатые...|metro|/products/59165-s...|\n",
      "|  1|          0|             null|               null|            null|          null|                 null|     189.9|            949.5|        5067289|    piece|        200|2020-03-15 16:36:...|Семечки подсолнеч...|metro|/products/108076-...|\n",
      "+---+-----------+-----------------+-------------------+----------------+--------------+---------------------+----------+-----------------+---------------+---------+-----------+--------------------+--------------------+-----+--------------------+\n",
      "only showing top 20 rows\n",
      "\n"
     ],
     "output_type": "stream"
    }
   ],
   "source": [
    "from pyspark.sql.types import IntegerType, FloatType, StringType\n",
    "from pyspark.sql.functions import regexp_replace, udf, when, round\n",
    "\n",
    "from pyspark.sql import SparkSession\n",
    "spark = SparkSession.builder.\\\n",
    "    config('spark.jars.packages','org.mongodb.spark:mongo-spark-connector_2.11:2.3.2').getOrCreate()\n",
    "c = spark.read.json('/home/comp/Documents/src/food/data_20_03_15-16_35_58_.json')\n",
    "c.printSchema()\n",
    "print(c)\n",
    "c.show()"
   ],
   "metadata": {
    "collapsed": false,
    "pycharm": {
     "name": "#%%\n",
     "is_executing": false
    }
   }
  },
  {
   "cell_type": "code",
   "execution_count": 54,
   "outputs": [
    {
     "name": "stdout",
     "text": [
      "+-----+--------------------+------+------+---------+------------+----------------+--------+---+----------+-----+--------------------+--------------------+\n",
      "| shop|                name|weight| price|old_price|price_per_kg|old_price_per_kg|discount|cat|product_id| type|              datetm|                 url|\n",
      "+-----+--------------------+------+------+---------+------------+----------------+--------+---+----------+-----+--------------------+--------------------+\n",
      "|metro|Микро зелень Керв...|    10| 119.9|     null|     11990.0|            null|    null|  1|   4047135|piece|2020-03-15 16:36:...|/products/138039-...|\n",
      "|metro|Кешью обжаренный ...|    50|499.89|     null|      9997.8|            null|    null|  1|    137980|piece|2020-03-15 16:36:...|/products/31423-k...|\n",
      "|metro|Фундук обжаренный...|   150|469.89|     null|      3132.6|            null|    null|  1|    669869|piece|2020-03-15 16:36:...|/products/61493-f...|\n",
      "|metro|Смесь соленая с о...|   800| 839.9|     null|     1049.88|            null|    null|  1|   2712971|piece|2020-03-15 16:36:...|/products/100672-...|\n",
      "|metro|Горчица осака ТМ ...|    20| 104.5|     null|      5225.0|            null|    null|  1|    683407|piece|2020-03-15 16:36:...|/products/63312-g...|\n",
      "|metro|Арахис жареный по...|   420| 239.9|     null|      571.19|            null|    null|  1|   1621151|piece|2020-03-15 16:36:...|/products/61542-a...|\n",
      "|metro|Конфеты Фруктовый...|   150|199.89|     null|      1332.6|            null|    null|  1|   1139578|piece|2020-03-15 16:36:...|/products/73652-k...|\n",
      "|metro|Арахис Crasssh Ch...|    60| 55.89|     69.9|       931.5|          1165.0|   20.04|  1|   3511910|piece|2020-03-15 16:36:...|/products/130500-...|\n",
      "|metro|Кокосовый орех оч...|   300|139.89|     null|       466.3|            null|    null|  1|   5143494|piece|2020-03-15 16:36:...|/products/166403-...|\n",
      "|metro|Компотная смесь Т...|   300| 129.9|     null|       433.0|            null|    null|  1|   5147882|piece|2020-03-15 16:36:...|/products/166557-...|\n",
      "|metro|Набор свежих овощ...|   300| 199.9|     null|      666.33|            null|    null|  1|    249031|piece|2020-03-15 16:36:...|/products/41165-n...|\n",
      "|metro|Кедровые орешки о...|   200| 839.9|     null|      4199.5|            null|    null|  1|    130938|piece|2020-03-15 16:36:...|/products/2033-ke...|\n",
      "|metro|Миндаль жареный с...|   500| 580.0|     null|      1160.0|            null|    null|  1|   2713352|piece|2020-03-15 16:36:...|/products/100693-...|\n",
      "|metro|Арахис обжаренный...|   300| 94.89|     null|       316.3|            null|    null|  1|    139125|piece|2020-03-15 16:36:...|/products/31424-a...|\n",
      "|metro|Макадамия сушеная...|   150| 764.9|     null|     5099.33|            null|    null|  1|   2704606|piece|2020-03-15 16:36:...|/products/100289-...|\n",
      "|metro|Свекла отварная н...|   500|  59.9|     null|       119.8|            null|    null|  1|   5056131|piece|2020-03-15 16:36:...|/products/156129-...|\n",
      "|metro|  Персики в корзинке|   500|359.89|     null|      719.78|            null|    null|  1|   1441934|piece|2020-03-15 16:36:...|/products/3642-pe...|\n",
      "|metro|Салат мини-шпинат...|   125| 189.9|     null|      1519.2|            null|    null|  1|   2269420|piece|2020-03-15 16:36:...|/products/89443-s...|\n",
      "|metro|Семечки полосатые...|   150| 73.09|     null|      487.27|            null|    null|  1|    630513|piece|2020-03-15 16:36:...|/products/59165-s...|\n",
      "|metro|Семечки подсолнеч...|   200| 189.9|     null|       949.5|            null|    null|  1|   5067289|piece|2020-03-15 16:36:...|/products/108076-...|\n",
      "+-----+--------------------+------+------+---------+------------+----------------+--------+---+----------+-----+--------------------+--------------------+\n",
      "only showing top 20 rows\n",
      "\n"
     ],
     "output_type": "stream"
    }
   ],
   "source": [
    "c = c.drop('data-group-quantity', 'data-energy-drink', 'data-amount', 'data-item-weight', 'data-energy-drink'). \\\n",
    "    withColumn('old_price', c['data-old-price'].cast(FloatType())). \\\n",
    "    withColumn('old_price_per_kg', c['data-old-price-per-kg'].cast(FloatType())). \\\n",
    "    withColumn('price', c['data-price'].cast(FloatType())). \\\n",
    "    withColumn('price_per_kg', c['data-price-per-kg'].cast(FloatType())). \\\n",
    "    withColumn('product_id', c['data-product-id'].cast(IntegerType())). \\\n",
    "    withColumn('type', c['data-type'].cast(StringType())). \\\n",
    "    withColumn('weight', c['data-weight'].cast(IntegerType()))\n",
    "\n",
    "calc_discount = round((1 - c.price/c.old_price) * 100, 2)\n",
    "\n",
    "c = c.withColumn('discount', when(c.old_price.isNull(), None).otherwise(calc_discount)). \\\n",
    "    select('shop', 'name', 'weight', 'price', 'old_price', 'price_per_kg',\n",
    "         'old_price_per_kg', 'discount', 'cat', 'product_id', 'type', 'datetm', 'url')\n",
    "c.show()"
   ],
   "metadata": {
    "collapsed": false,
    "pycharm": {
     "name": "#%% \n",
     "is_executing": false
    }
   }
  },
  {
   "cell_type": "code",
   "execution_count": 55,
   "outputs": [
    {
     "name": "stdout",
     "text": [
      "+-----+--------------------+------+-----+---------+------------+----------------+--------+---+----------+-----+--------------------+--------------------+\n",
      "| shop|                name|weight|price|old_price|price_per_kg|old_price_per_kg|discount|cat|product_id| type|              datetm|                 url|\n",
      "+-----+--------------------+------+-----+---------+------------+----------------+--------+---+----------+-----+--------------------+--------------------+\n",
      "|metro|Печенье бисквитно...|   270| 40.0|    101.0|      148.15|       374.07407|    60.4|  9|    136432|piece|2020-03-15 17:09:...|/products/11848-p...|\n",
      "|metro|Печенье бисквитно...|   270| 40.0|    101.0|      148.15|       374.07407|    60.4|  9|    138455|piece|2020-03-15 17:07:...|/products/11849-p...|\n",
      "|metro|Печенье бисквитно...|   270| 40.0|    101.0|      148.15|       374.07407|    60.4| 83|    138455|piece|2020-03-15 17:10:...|/products/11849-p...|\n",
      "|metro|Печенье бисквитно...|   270| 40.0|    101.0|      148.15|       374.07407|    60.4|  9|    136432|piece|2020-03-15 17:09:...|/products/11848-p...|\n",
      "|metro|Печенье бисквитно...|   270| 40.0|    101.0|      148.15|       374.07407|    60.4| 83|    136432|piece|2020-03-15 17:11:...|/products/11848-p...|\n",
      "|metro|Конфеты шоколадны...|   200|107.9|    235.0|       539.5|          1175.0|   54.09|  9|    705699|piece|2020-03-15 17:06:...|/products/63562-k...|\n",
      "|metro|Конфеты Родные пр...|   200|107.9|    235.0|       539.5|          1175.0|   54.09|  9|    125470|piece|2020-03-15 17:09:...|/products/7115-ko...|\n",
      "|metro|Пельмени Аппетитн...|   700|299.0|    623.0|      427.14|           890.0|   52.01|  6|   2470683|piece|2020-03-15 16:59:...|/products/95382-p...|\n",
      "|metro|Пельмени Аппетитн...|   700|299.0|    623.0|      427.14|           890.0|   52.01|  6|    135030|piece|2020-03-15 16:59:...|/products/31755-p...|\n",
      "|metro|Пельмени Аппетитн...|   700|299.0|    623.0|      427.14|           890.0|   52.01| 62|    135030|piece|2020-03-15 17:00:...|/products/31755-p...|\n",
      "|metro|Пельмени Аппетитн...|   700|299.0|    623.0|      427.14|           890.0|   52.01| 62|   2470683|piece|2020-03-15 17:00:...|/products/95382-p...|\n",
      "|metro|Горький шоколад А...|   100| 89.9|    184.0|       899.0|          1840.0|   51.14|  9|    124048|piece|2020-03-15 17:06:...|/products/5611-go...|\n",
      "|metro|Шоколад Горький 8...|   100| 89.9|    184.0|       899.0|          1840.0|   51.14|  9|    135409|piece|2020-03-15 17:08:...|/products/5612-sh...|\n",
      "|metro|Горький шоколад А...|   100| 89.9|    184.0|       899.0|          1840.0|   51.14| 84|    124048|piece|2020-03-15 17:11:...|/products/5611-go...|\n",
      "|metro|Хлебцы гречневые ...|   200| 33.9|    69.28|       169.5|           346.4|   51.07|  8|    127009|piece|2020-03-15 17:01:...|/products/4115-hl...|\n",
      "|metro|Хлебцы гречневые ...|   200| 33.9|    69.28|       169.5|           346.4|   51.07| 78|    127009|piece|2020-03-15 17:01:...|/products/4115-hl...|\n",
      "|metro|Венские вафли с з...|   100|19.89|    40.19|       198.9|           401.9|   50.51| 83|    670408|piece|2020-03-15 17:10:...|/products/61612-v...|\n",
      "|metro|Венские вафли с з...|   100|19.89|    40.19|       198.9|           401.9|   50.51|  9|    670408|piece|2020-03-15 17:07:...|/products/61612-v...|\n",
      "|metro|Конфеты красная ш...|   500|216.0|    436.0|       432.0|           872.0|   50.46|  9|    666673|piece|2020-03-15 17:06:...|/products/60865-k...|\n",
      "|metro|Конфеты шоколадны...|   200| 83.9|    169.0|       419.5|           845.0|   50.36|  9|   4150348|piece|2020-03-15 17:09:...|/products/33136-k...|\n",
      "+-----+--------------------+------+-----+---------+------------+----------------+--------+---+----------+-----+--------------------+--------------------+\n",
      "only showing top 20 rows\n",
      "\n"
     ],
     "output_type": "stream"
    }
   ],
   "source": [
    "c.sort('discount', ascending=False).show()"
   ],
   "metadata": {
    "collapsed": false,
    "pycharm": {
     "name": "#%%\n",
     "is_executing": false
    }
   }
  },
  {
   "cell_type": "code",
   "execution_count": 5,
   "outputs": [
    {
     "name": "stdout",
     "text": [
      "1\n"
     ],
     "output_type": "stream"
    }
   ],
   "source": [
    "print(1)"
   ],
   "metadata": {
    "collapsed": false,
    "pycharm": {
     "name": "#%% \n",
     "is_executing": false
    }
   }
  },
  {
   "cell_type": "code",
   "execution_count": 90,
   "outputs": [],
   "source": [
    "c.write.mode('append').partitionBy('shop', 'cat').parquet('./store/data.parquet')"
   ],
   "metadata": {
    "collapsed": false,
    "pycharm": {
     "name": "#%%\n",
     "is_executing": false
    }
   }
  },
  {
   "cell_type": "code",
   "execution_count": null,
   "outputs": [],
   "source": [],
   "metadata": {
    "collapsed": false,
    "pycharm": {
     "name": "#%%c.write.mode('append').parquet('./store/carusel.parquet')\n"
    }
   }
  }
 ],
 "metadata": {
  "kernelspec": {
   "display_name": "Python 3",
   "language": "python",
   "name": "python3"
  },
  "language_info": {
   "codemirror_mode": {
    "name": "ipython",
    "version": 2
   },
   "file_extension": ".py",
   "mimetype": "text/x-python",
   "name": "python",
   "nbconvert_exporter": "python",
   "pygments_lexer": "ipython2",
   "version": "2.7.6"
  },
  "pycharm": {
   "stem_cell": {
    "cell_type": "raw",
    "source": [],
    "metadata": {
     "collapsed": false
    }
   }
  }
 },
 "nbformat": 4,
 "nbformat_minor": 0
}