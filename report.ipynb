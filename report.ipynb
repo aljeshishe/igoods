{
 "cells": [
  {
   "cell_type": "code",
   "execution_count": 1,
   "metadata": {},
   "outputs": [
    {
     "name": "stdout",
     "output_type": "stream",
     "text": [
      "processing /home/jovyan/jsons/20_03_21__04_00_04.json\n",
      "56112 records read from json\n",
      "+-------+--------------------+------+------+---------+------------+----------------+--------+---+----------+-----+--------------------+--------------------+\n",
      "|   shop|                name|weight| price|old_price|price_per_kg|old_price_per_kg|discount|cat|product_id| type|              datetm|                 url|\n",
      "+-------+--------------------+------+------+---------+------------+----------------+--------+---+----------+-----+--------------------+--------------------+\n",
      "|karusel| Антиперспирант-к...|    49|199.99|     null|     4081.43|            null|    null| 15|   1007746|piece|2020-03-21 05:48:...|/products/35828-a...|\n",
      "|  metro| Антиперспирант-к...|    49| 111.9|    190.0|     2283.67|        3877.551|   41.11| 15|    137598|piece|2020-03-21 04:14:...|/products/35828-a...|\n",
      "|karusel| Бальзам для особ...|   225| 97.99|     null|      435.51|            null|    null| 15|   1019125|piece|2020-03-21 05:48:...|/products/69880-b...|\n",
      "|  metro| Банановое суфле ...|   500| 175.0|     null|       350.0|            null|    null|  9|   4724868|piece|2020-03-21 04:45:...|/products/158824-...|\n",
      "|  lenta| Батарейки АА ТМ ...|   100|105.29|     null|      1052.9|            null|    null|230|    615235|piece|2020-03-21 05:35:...|/products/48607-b...|\n",
      "+-------+--------------------+------+------+---------+------------+----------------+--------+---+----------+-----+--------------------+--------------------+\n",
      "only showing top 5 rows\n",
      "\n",
      "220417 records read from in store\n",
      "276529 records after union\n",
      "275668(+55251) records saving to store (after drop duplicates by date product_id)\n"
     ]
    },
    {
     "name": "stderr",
     "output_type": "stream",
     "text": [
      "20/03/21 12:38:12 WARN NativeCodeLoader: Unable to load native-hadoop library for your platform... using builtin-java classes where applicable\n",
      "Using Spark's default log4j profile: org/apache/spark/log4j-defaults.properties\n",
      "Setting default log level to \"WARN\".\n",
      "To adjust logging level use sc.setLogLevel(newLevel). For SparkR, use setLogLevel(newLevel).\n",
      "\r",
      "[Stage 0:>                                                          (0 + 1) / 1]\r",
      "                                                                                \r",
      "\r",
      "[Stage 1:>                                                          (0 + 1) / 1]\r",
      "                                                                                \r",
      "\r",
      "[Stage 3:>                                                          (0 + 1) / 1]\r",
      "                                                                                \r",
      "\r",
      "[Stage 7:=============================>                             (1 + 1) / 2]\r",
      "                                                                                \r",
      "\r",
      "[Stage 9:>                                                          (0 + 1) / 2]\r",
      "[Stage 9:=============================>                             (1 + 1) / 2]\r",
      "[Stage 10:===>                                                   (12 + 1) / 200]\r",
      "[Stage 10:=====>                                                 (19 + 1) / 200]\r",
      "[Stage 10:=======>                                               (26 + 1) / 200]\r",
      "[Stage 10:=========>                                             (34 + 1) / 200]\r",
      "[Stage 10:===========>                                           (42 + 1) / 200]\r",
      "[Stage 10:==============>                                        (51 + 1) / 200]\r",
      "[Stage 10:================>                                      (59 + 1) / 200]\r",
      "[Stage 10:==================>                                    (67 + 1) / 200]\r",
      "[Stage 10:===================>                                   (72 + 1) / 200]\r",
      "[Stage 10:======================>                                (80 + 1) / 200]\r",
      "[Stage 10:========================>                              (88 + 1) / 200]\r",
      "[Stage 10:==========================>                            (97 + 1) / 200]\r",
      "[Stage 10:=============================>                        (108 + 1) / 200]\r",
      "[Stage 10:===============================>                      (118 + 1) / 200]\r",
      "[Stage 10:==================================>                   (127 + 1) / 200]\r",
      "[Stage 10:=====================================>                (139 + 1) / 200]\r",
      "[Stage 10:=========================================>            (152 + 1) / 200]\r",
      "[Stage 10:============================================>         (165 + 1) / 200]\r",
      "[Stage 10:==============================================>       (172 + 1) / 200]\r",
      "[Stage 10:=================================================>    (182 + 1) / 200]\r",
      "[Stage 10:====================================================> (193 + 1) / 200]\r",
      "                                                                                \r",
      "\r",
      "[Stage 12:>                                                         (0 + 1) / 2]\r",
      "[Stage 12:=============================>                            (1 + 1) / 2]\r",
      "[Stage 13:=========>                                             (36 + 1) / 200]\r",
      "[Stage 13:============>                                          (47 + 1) / 200]\r",
      "[Stage 13:================>                                      (60 + 1) / 200]\r",
      "[Stage 13:==================>                                    (67 + 1) / 200]\r",
      "[Stage 13:======================>                                (81 + 1) / 200]\r",
      "[Stage 13:==========================>                            (96 + 1) / 200]\r",
      "[Stage 13:=============================>                        (108 + 1) / 200]\r",
      "[Stage 13:=================================>                    (123 + 1) / 200]\r",
      "[Stage 13:=====================================>                (139 + 1) / 200]\r",
      "[Stage 13:=========================================>            (155 + 1) / 200]\r",
      "[Stage 13:=============================================>        (169 + 1) / 200]\r",
      "[Stage 13:================================================>     (181 + 1) / 200]\r",
      "[Stage 13:====================================================> (196 + 1) / 200]\r",
      "                                                                                \r",
      "\r",
      "[Stage 15:>                                                         (0 + 1) / 2]\r",
      "[Stage 15:=============================>                            (1 + 1) / 2]\r",
      "[Stage 16:>                                                         (0 + 1) / 1]\r",
      "                                                                                \r"
     ]
    }
   ],
   "source": [
    "%%sh\n",
    "python convert.py"
   ]
  },
  {
   "cell_type": "code",
   "execution_count": 2,
   "metadata": {},
   "outputs": [
    {
     "data": {
      "application/javascript": [
       "IPython.OutputArea.auto_scroll_threshold = 9999;\n"
      ],
      "text/plain": [
       "<IPython.core.display.Javascript object>"
      ]
     },
     "metadata": {},
     "output_type": "display_data"
    }
   ],
   "source": [
    "%%javascript\n",
    "IPython.OutputArea.auto_scroll_threshold = 9999;"
   ]
  },
  {
   "cell_type": "code",
   "execution_count": 3,
   "metadata": {
    "pycharm": {
     "is_executing": false
    }
   },
   "outputs": [
    {
     "data": {
      "text/html": [
       "<style>.container { width:100% !important; }</style>"
      ],
      "text/plain": [
       "<IPython.core.display.HTML object>"
      ]
     },
     "metadata": {},
     "output_type": "display_data"
    }
   ],
   "source": [
    "from IPython.core.display import display, HTML\n",
    "display(HTML(\"<style>.container { width:100% !important; }</style>\"))\n"
   ]
  },
  {
   "cell_type": "code",
   "execution_count": 4,
   "metadata": {
    "pycharm": {
     "is_executing": false
    }
   },
   "outputs": [],
   "source": [
    "from pyspark.sql.dataframe import DataFrame\n",
    "DataFrame.old_show = getattr(DataFrame, 'old_show', DataFrame.show)\n",
    "def show(self, n=20, truncate=20):\n",
    "    self.persist()\n",
    "    print(self.count())\n",
    "    self.old_show(n, truncate=truncate)\n",
    "    return self\n",
    "\n",
    "DataFrame.show = show\n",
    "\n",
    "import random\n",
    "def sql(self, q):\n",
    "    name = 'table_{}'.format(random.randint(0000, 9999))\n",
    "    self.createOrReplaceTempView(name)\n",
    "    q = q.format(T=name)\n",
    "    print(q)\n",
    "    return df.sql_ctx.sql(q)\n",
    "DataFrame.sql = sql\n"
   ]
  },
  {
   "cell_type": "code",
   "execution_count": 5,
   "metadata": {
    "pycharm": {
     "is_executing": false,
     "name": "#%%\n"
    }
   },
   "outputs": [
    {
     "name": "stdout",
     "output_type": "stream",
     "text": [
      "275668\n",
      "+-----+--------------------+------+------+---------+------------+----------------+--------+---+----------+------+--------------------+--------------------+--------+\n",
      "| shop|                name|weight| price|old_price|price_per_kg|old_price_per_kg|discount|cat|product_id|  type|              datetm|                 url|    date|\n",
      "+-----+--------------------+------+------+---------+------------+----------------+--------+---+----------+------+--------------------+--------------------+--------+\n",
      "|metro|Проростки Микс Кр...|    70|169.89|     null|      2427.0|            null|    null|  1|    123000| piece|2020-03-16 19:36:...|/products/30784-p...|20-03-16|\n",
      "|metro|Чай черный байхов...|   100| 799.0|     null|      7990.0|            null|    null| 12|    123492| piece|2020-03-16 19:42:...|/products/16059-c...|20-03-16|\n",
      "|metro|Оливки с перцем T...|   300|  85.0|     null|      283.33|            null|    null|  7|    124369| piece|2020-03-16 20:09:...|/products/17355-o...|20-03-16|\n",
      "|metro|Огурчики хрустящи...|   680| 147.0|     null|      216.18|            null|    null|  7|    124525| piece|2020-03-16 20:09:...|/products/2285-og...|20-03-16|\n",
      "|metro|Маринад для барбе...|   300| 111.0|     null|       370.0|            null|    null| 13|    125490| piece|2020-03-16 19:42:...|/products/4520-ma...|20-03-16|\n",
      "|metro|Десерт X-Pop фрук...|    65|  36.0|    47.38|      553.85|        728.9231|   24.02|  2|    125645| piece|2020-03-16 19:56:...|/products/31695-d...|20-03-16|\n",
      "|metro|Судак мелкий нера...|  1000| 279.0|     null|       279.0|            null|    null|  5|    125863|weight|2020-03-16 20:07:...|/products/12479-s...|20-03-16|\n",
      "|metro|Колбаса п/к Салям...|   740| 499.0|     null|      674.32|            null|    null|  4|    125917| piece|2020-03-16 20:06:...|/products/32262-k...|20-03-16|\n",
      "|metro|Чай зеленый jasmi...|   200| 329.0|     null|      1645.0|            null|    null| 12|    126048| piece|2020-03-16 19:42:...|/products/173-cha...|20-03-16|\n",
      "|metro|Хлеб зерновой ржа...|   330| 115.0|     null|      348.48|            null|    null|  8|    126932| piece|2020-03-16 20:10:...|/products/15282-h...|20-03-16|\n",
      "|metro|Горчица Классичес...|   185| 125.0|     null|      675.68|            null|    null| 13|    126970| piece|2020-03-16 22:56:...|/products/775-gor...|20-03-16|\n",
      "|metro|Мицеллярная вода ...|   400| 215.0|   317.02|       537.5|          792.55|   32.18| 15|    127246| piece|2020-03-16 19:47:...|/products/37638-m...|20-03-16|\n",
      "|metro|Сливки стерилизов...|   735| 134.0|     null|      182.31|            null|    null|  2|    128066| piece|2020-03-16 19:59:...|/products/5675-sl...|20-03-16|\n",
      "|metro|Мусс для волос су...|   200| 261.0|     null|      1305.0|            null|    null| 15|    128642| piece|2020-03-16 23:00:...|/products/990-mus...|20-03-16|\n",
      "|metro|Пицца Ristorante ...|   335| 276.0|     null|      823.88|            null|    null|  6|    128812| piece|2020-03-16 20:08:...|/products/803-pit...|20-03-16|\n",
      "|metro|Сыр Голландский 4...|   220| 185.0|     null|      840.91|            null|    null|  2|    128856| piece|2020-03-16 19:59:...|/products/27095-s...|20-03-16|\n",
      "|metro|Сосиски из говяди...|   470| 336.0|     null|      714.89|            null|    null|  4|    128922| piece|2020-03-16 20:06:...|/products/11967-s...|20-03-16|\n",
      "|metro|Сметана из Вологд...|   250| 112.0|     null|       448.0|            null|    null|  2|    129076| piece|2020-03-16 19:57:...|/products/1650-sm...|20-03-16|\n",
      "|metro|Коктейль из мореп...|   430| 325.0|     null|      755.81|            null|    null|  5|    129409| piece|2020-03-16 20:07:...|/products/1342-ko...|20-03-16|\n",
      "|metro|Сметана 30% ТМ Pr...|   180|  60.0|     null|      333.33|            null|    null|  2|    129626| piece|2020-03-16 19:57:...|/products/18505-s...|20-03-16|\n",
      "+-----+--------------------+------+------+---------+------------+----------------+--------+---+----------+------+--------------------+--------------------+--------+\n",
      "only showing top 20 rows\n",
      "\n"
     ]
    }
   ],
   "source": [
    "from pyspark.sql import SparkSession\n",
    "from pyspark.sql.types import IntegerType, FloatType, StringType\n",
    "from pyspark.sql import functions as F\n",
    "spark = SparkSession.builder.getOrCreate()\n",
    "\n",
    "df = spark.read.parquet('store').withColumn('date', F.date_format(F.date_trunc('DAY', F.col('datetm')), 'YY-MM-dd')).show()\n",
    "\n"
   ]
  },
  {
   "cell_type": "code",
   "execution_count": 6,
   "metadata": {
    "pycharm": {
     "is_executing": false,
     "name": "#%%\n"
    }
   },
   "outputs": [
    {
     "name": "stdout",
     "output_type": "stream",
     "text": [
      "4\n",
      "+-------+--------+--------+--------+--------+--------+\n",
      "|   shop|20-03-16|20-03-17|20-03-18|20-03-19|20-03-21|\n",
      "+-------+--------+--------+--------+--------+--------+\n",
      "| prisma|    8991|    8689|    8629|    8660|    8680|\n",
      "|  metro|   19599|   19645|   19365|   19702|   19727|\n",
      "|karusel|   12501|   13139|   12450|   12642|   12803|\n",
      "|  lenta|   14394|   14176|   13748|   14087|   14041|\n",
      "+-------+--------+--------+--------+--------+--------+\n",
      "\n"
     ]
    },
    {
     "data": {
      "text/plain": [
       "DataFrame[shop: string, 20-03-16: bigint, 20-03-17: bigint, 20-03-18: bigint, 20-03-19: bigint, 20-03-21: bigint]"
      ]
     },
     "execution_count": 6,
     "metadata": {},
     "output_type": "execute_result"
    }
   ],
   "source": [
    "# total products per shop\n",
    "df.groupBy(\"shop\").pivot(\"date\").agg(F.count('product_id')).show()\n"
   ]
  },
  {
   "cell_type": "code",
   "execution_count": 7,
   "metadata": {
    "pycharm": {
     "is_executing": false,
     "name": "#%%\n"
    }
   },
   "outputs": [
    {
     "name": "stdout",
     "output_type": "stream",
     "text": [
      "4\n",
      "+-------+--------+--------+--------+--------+--------+\n",
      "|   shop|20-03-16|20-03-17|20-03-18|20-03-19|20-03-21|\n",
      "+-------+--------+--------+--------+--------+--------+\n",
      "| prisma|     997|     934|     908|     783|     759|\n",
      "|  metro|    2707|    2813|    2762|    2833|    2988|\n",
      "|karusel|    1836|    2022|    1629|    1141|    1802|\n",
      "|  lenta|    1513|    1531|    1490|    1430|    1305|\n",
      "+-------+--------+--------+--------+--------+--------+\n",
      "\n"
     ]
    },
    {
     "data": {
      "text/plain": [
       "DataFrame[shop: string, 20-03-16: bigint, 20-03-17: bigint, 20-03-18: bigint, 20-03-19: bigint, 20-03-21: bigint]"
      ]
     },
     "execution_count": 7,
     "metadata": {},
     "output_type": "execute_result"
    }
   ],
   "source": [
    "# total products with discounts per shop \n",
    "df.where('old_price is not null').groupBy(\"shop\").pivot(\"date\").agg(F.count('product_id')).show()\n"
   ]
  },
  {
   "cell_type": "code",
   "execution_count": 8,
   "metadata": {},
   "outputs": [
    {
     "name": "stdout",
     "output_type": "stream",
     "text": [
      "4\n",
      "+-------+------------------+------------------+------------------+------------------+------------------+\n",
      "|   shop|          20-03-16|          20-03-17|          20-03-18|          20-03-19|          20-03-21|\n",
      "+-------+------------------+------------------+------------------+------------------+------------------+\n",
      "| prisma|188.10001347850155|188.34344018157324|189.03996892411402|192.07068617674275|192.57394608264696|\n",
      "|  metro|  291.260432704589| 287.4751096981541| 289.6296090938372| 289.3170404041156|284.33816950983623|\n",
      "|karusel|163.46044942153262|162.95179831070737|166.14586250631686| 168.7916300962232|166.81134088776088|\n",
      "|  lenta|212.23314121221028|210.92874393766877|213.27697006009296|213.59038444901407| 213.3129290605269|\n",
      "+-------+------------------+------------------+------------------+------------------+------------------+\n",
      "\n"
     ]
    },
    {
     "data": {
      "text/plain": [
       "DataFrame[shop: string, 20-03-16: double, 20-03-17: double, 20-03-18: double, 20-03-19: double, 20-03-21: double]"
      ]
     },
     "execution_count": 8,
     "metadata": {},
     "output_type": "execute_result"
    }
   ],
   "source": [
    "# total average price per shop \n",
    "df.groupBy(\"shop\").pivot(\"date\").agg(F.sum('price')/F.count('product_id')).show()\n"
   ]
  }
 ],
 "metadata": {
  "kernelspec": {
   "display_name": "Python 3",
   "language": "python",
   "name": "python3"
  },
  "language_info": {
   "codemirror_mode": {
    "name": "ipython",
    "version": 3
   },
   "file_extension": ".py",
   "mimetype": "text/x-python",
   "name": "python",
   "nbconvert_exporter": "python",
   "pygments_lexer": "ipython3",
   "version": "3.7.6"
  },
  "pycharm": {
   "stem_cell": {
    "cell_type": "raw",
    "metadata": {
     "collapsed": false
    },
    "source": []
   }
  }
 },
 "nbformat": 4,
 "nbformat_minor": 4
}
