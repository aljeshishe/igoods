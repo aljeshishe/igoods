{
 "cells": [
  {
   "cell_type": "code",
   "execution_count": 13,
   "metadata": {},
   "outputs": [
    {
     "data": {
      "text/html": [
       "<style>.container { width:100% !important; }</style>"
      ],
      "text/plain": [
       "<IPython.core.display.HTML object>"
      ]
     },
     "metadata": {},
     "output_type": "display_data"
    }
   ],
   "source": [
    "from IPython.core.display import display, HTML\n",
    "display(HTML(\"<style>.container { width:100% !important; }</style>\"))"
   ]
  },
  {
   "cell_type": "code",
   "execution_count": 14,
   "metadata": {},
   "outputs": [],
   "source": [
    "def show(df):\n",
    "    print(df.count())\n",
    "    df.show()\n",
    "    return df"
   ]
  },
  {
   "cell_type": "code",
   "execution_count": 1,
   "metadata": {
    "pycharm": {
     "name": "#%%\n"
    }
   },
   "outputs": [],
   "source": [
    "from pyspark.sql import SparkSession\n",
    "import sys\n",
    "\n",
    "from pyspark.sql.functions import when, round\n",
    "from pyspark.sql.types import FloatType, IntegerType, StringType\n",
    "spark = SparkSession.builder.getOrCreate()"
   ]
  },
  {
   "cell_type": "code",
   "execution_count": 15,
   "metadata": {
    "pycharm": {
     "name": "#%%\n"
    }
   },
   "outputs": [
    {
     "name": "stdout",
     "output_type": "stream",
     "text": [
      "217968\n",
      "+------+--------------------+------+-----+---------+------------+----------------+--------+---+----------+-----+--------------------+--------------------+\n",
      "|  shop|                name|weight|price|old_price|price_per_kg|old_price_per_kg|discount|cat|product_id| type|              datetm|                 url|\n",
      "+------+--------------------+------+-----+---------+------------+----------------+--------+---+----------+-----+--------------------+--------------------+\n",
      "|prisma|Чиабатта в газово...|   250| 99.9|     null|       399.6|            null|    null|  8|    226301|piece|2020-03-15 19:43:...|/products/27683-c...|\n",
      "|prisma|Сдоба Наслаждение...|   230|123.9|     null|       538.7|            null|    null|  8|    536951|piece|2020-03-15 19:43:...|/products/43616-s...|\n",
      "|prisma|Хлебец Подовый с ...|   300| 44.9|     60.9|      149.67|           203.0|   26.27|  8|    222117|piece|2020-03-15 19:43:...|/products/16970-h...|\n",
      "|prisma|Хлебцы порционные...|   240| 65.9|     null|      274.58|            null|    null|  8|    279814|piece|2020-03-15 19:43:...|/products/41082-h...|\n",
      "|prisma|Хлеб Фермерский с...|   330| 49.9|     null|      151.21|            null|    null|  8|   4889978|piece|2020-03-15 19:43:...|/products/73808-h...|\n",
      "|prisma|Хлеб белый pan bl...|   250|213.9|     null|       855.6|            null|    null|  8|   1642249|piece|2020-03-15 19:43:...|/products/85039-h...|\n",
      "|prisma|Пирожок Шереметов...|    70| 27.9|     45.9|      398.57|        655.7143|   39.22|  8|    442326|piece|2020-03-15 19:43:...|/products/43619-p...|\n",
      "|prisma|Хлеб Бородинский ...|   400| 56.9|     null|      142.25|            null|    null|  8|    228278|piece|2020-03-15 19:43:...|/products/27668-h...|\n",
      "|prisma|Сухарики Голландс...|   150|109.9|     null|      732.67|            null|    null|  8|    732154|piece|2020-03-15 19:43:...|/products/64143-s...|\n",
      "|prisma|Мини круассаны с ...|   105| 49.9|     null|      475.24|            null|    null|  8|    707652|piece|2020-03-15 19:43:...|/products/61700-m...|\n",
      "|prisma|Сочень с творожно...|   120| 61.9|     null|      515.83|            null|    null|  8|    225959|piece|2020-03-15 19:43:...|/products/25544-s...|\n",
      "|prisma|Сухарики ржаные Т...|   200|111.9|    149.9|       559.5|           749.5|   25.35|  8|    227035|piece|2020-03-15 19:43:...|/products/27716-s...|\n",
      "|prisma|Хлеб с фундуком, ...|   205|119.9|     null|      584.88|            null|    null|  8|    228728|piece|2020-03-15 19:43:...|/products/27640-h...|\n",
      "|prisma|Краюшки ржано-пше...|   240| 69.9|     null|      291.25|            null|    null|  8|    226036|piece|2020-03-15 19:43:...|/products/1569-kr...|\n",
      "|prisma|Сухарики ржаные Т...|   200|111.9|    149.9|       559.5|           749.5|   25.35|  8|    227035|piece|2020-03-15 19:43:...|/products/27716-s...|\n",
      "|prisma|Хлеб Домашний без...|   400|109.9|     null|      274.75|            null|    null|  8|    228727|piece|2020-03-15 19:43:...|/products/27645-h...|\n",
      "|prisma|Хлеб Английский д...|   200| 29.9|     51.9|       149.5|           259.5|   42.39|  8|    230083|piece|2020-03-15 19:43:...|/products/27614-h...|\n",
      "|prisma|Хлеб с фундуком, ...|   205|119.9|     null|      584.88|            null|    null|  8|    228728|piece|2020-03-15 19:43:...|/products/27640-h...|\n",
      "|prisma|Хлебцы пшеничные ...|   250|199.9|     null|       799.6|            null|    null|  8|    230479|piece|2020-03-15 19:43:...|/products/29608-h...|\n",
      "|prisma|Хлебцы ржаные ТМ ...|   460|239.9|     null|      521.52|            null|    null|  8|   4588126|piece|2020-03-15 19:43:...|/products/156177-...|\n",
      "+------+--------------------+------+-----+---------+------------+----------------+--------+---+----------+-----+--------------------+--------------------+\n",
      "only showing top 20 rows\n",
      "\n"
     ]
    }
   ],
   "source": [
    "df = show(spark.read.parquet('data.parquet'))"
   ]
  },
  {
   "cell_type": "code",
   "execution_count": null,
   "outputs": [],
   "source": [
    "show(df.drop_duplicates())"
   ],
   "metadata": {
    "collapsed": false,
    "pycharm": {
     "name": "#%%\n"
    }
   }
  },
  {
   "cell_type": "code",
   "execution_count": null,
   "outputs": [],
   "source": [
    "c = spark.read.json('data_20_03_15-17_57_28.json')\n",
    "print(f'Read {c.count()} records')\n",
    "c.printSchema()\n",
    "\n",
    "c = c.drop('data-group-quantity', 'data-energy-drink', 'data-amount', 'data-item-weight', 'data-energy-drink'). \\\n",
    "    withColumn('old_price', c['data-old-price'].cast(FloatType())). \\\n",
    "    withColumn('old_price_per_kg', c['data-old-price-per-kg'].cast(FloatType())). \\\n",
    "    withColumn('price', c['data-price'].cast(FloatType())). \\\n",
    "    withColumn('price_per_kg', c['data-price-per-kg'].cast(FloatType())). \\\n",
    "    withColumn('product_id', c['data-product-id'].cast(IntegerType())). \\\n",
    "    withColumn('type', c['data-type'].cast(StringType())). \\\n",
    "    withColumn('weight', c['data-weight'].cast(IntegerType()))\n",
    "\n",
    "calc_discount = round((1 - c.price / c.old_price) * 100, 2)\n",
    "\n",
    "c = c.withColumn('discount', when(c.old_price.isNull(), None).otherwise(calc_discount)). \\\n",
    "    select('shop', 'name', 'weight', 'price', 'old_price', 'price_per_kg',\n",
    "           'old_price_per_kg', 'discount', 'cat', 'product_id', 'type', 'datetm', 'url')\n",
    "c.sort('name').show()\n",
    "\n",
    "c.write.mode('append').parquet('data.parquet')\n"
   ],
   "metadata": {
    "collapsed": false,
    "pycharm": {
     "name": "#%%\n"
    }
   }
  },
  {
   "cell_type": "code",
   "execution_count": null,
   "outputs": [],
   "source": [
    "c = spark.read.json('data_20_03_15-17_57_28.json')\n",
    "print(f'Read {c.count()} records')\n",
    "c.printSchema()\n",
    "\n",
    "c = c.drop('data-group-quantity', 'data-energy-drink', 'data-amount', 'data-item-weight', 'data-energy-drink'). \\\n",
    "    withColumn('old_price', c['data-old-price'].cast(FloatType())). \\\n",
    "    withColumn('old_price_per_kg', c['data-old-price-per-kg'].cast(FloatType())). \\\n",
    "    withColumn('price', c['data-price'].cast(FloatType())). \\\n",
    "    withColumn('price_per_kg', c['data-price-per-kg'].cast(FloatType())). \\\n",
    "    withColumn('product_id', c['data-product-id'].cast(IntegerType())). \\\n",
    "    withColumn('type', c['data-type'].cast(StringType())). \\\n",
    "    withColumn('weight', c['data-weight'].cast(IntegerType()))\n",
    "\n",
    "calc_discount = round((1 - c.price / c.old_price) * 100, 2)\n",
    "\n",
    "c = c.withColumn('discount', when(c.old_price.isNull(), None).otherwise(calc_discount)). \\\n",
    "    select('shop', 'name', 'weight', 'price', 'old_price', 'price_per_kg',\n",
    "           'old_price_per_kg', 'discount', 'cat', 'product_id', 'type', 'datetm', 'url')\n",
    "c.sort('name').show()\n",
    "\n",
    "c.write.mode('append').parquet('data.parquet')\n"
   ],
   "metadata": {
    "collapsed": false,
    "pycharm": {
     "name": "#%%\n"
    }
   }
  },
  {
   "cell_type": "code",
   "execution_count": null,
   "outputs": [],
   "source": [
    "show(df.min('datetm'))"
   ],
   "metadata": {
    "collapsed": false,
    "pycharm": {
     "name": "#%%\n"
    }
   }
  },
  {
   "cell_type": "code",
   "execution_count": null,
   "outputs": [],
   "source": [
    "c = spark.read.json('data_20_03_15-17_57_28.json')\n",
    "print(f'Read {c.count()} records')\n",
    "c.printSchema()\n",
    "\n",
    "c = c.drop('data-group-quantity', 'data-energy-drink', 'data-amount', 'data-item-weight', 'data-energy-drink'). \\\n",
    "    withColumn('old_price', c['data-old-price'].cast(FloatType())). \\\n",
    "    withColumn('old_price_per_kg', c['data-old-price-per-kg'].cast(FloatType())). \\\n",
    "    withColumn('price', c['data-price'].cast(FloatType())). \\\n",
    "    withColumn('price_per_kg', c['data-price-per-kg'].cast(FloatType())). \\\n",
    "    withColumn('product_id', c['data-product-id'].cast(IntegerType())). \\\n",
    "    withColumn('type', c['data-type'].cast(StringType())). \\\n",
    "    withColumn('weight', c['data-weight'].cast(IntegerType()))\n",
    "\n",
    "calc_discount = round((1 - c.price / c.old_price) * 100, 2)\n",
    "\n",
    "c = c.withColumn('discount', when(c.old_price.isNull(), None).otherwise(calc_discount)). \\\n",
    "    select('shop', 'name', 'weight', 'price', 'old_price', 'price_per_kg',\n",
    "           'old_price_per_kg', 'discount', 'cat', 'product_id', 'type', 'datetm', 'url')\n",
    "c.sort('name').show()\n",
    "\n",
    "c.write.mode('append').parquet('data.parquet')\n"
   ],
   "metadata": {
    "collapsed": false,
    "pycharm": {
     "name": "#%%\n"
    }
   }
  },
  {
   "cell_type": "code",
   "execution_count": null,
   "outputs": [],
   "source": [
    "c = spark.read.json('data_20_03_15-17_57_28.json')\n",
    "print(f'Read {c.count()} records')\n",
    "c.printSchema()\n",
    "\n",
    "c = c.drop('data-group-quantity', 'data-energy-drink', 'data-amount', 'data-item-weight', 'data-energy-drink'). \\\n",
    "    withColumn('old_price', c['data-old-price'].cast(FloatType())). \\\n",
    "    withColumn('old_price_per_kg', c['data-old-price-per-kg'].cast(FloatType())). \\\n",
    "    withColumn('price', c['data-price'].cast(FloatType())). \\\n",
    "    withColumn('price_per_kg', c['data-price-per-kg'].cast(FloatType())). \\\n",
    "    withColumn('product_id', c['data-product-id'].cast(IntegerType())). \\\n",
    "    withColumn('type', c['data-type'].cast(StringType())). \\\n",
    "    withColumn('weight', c['data-weight'].cast(IntegerType()))\n",
    "\n",
    "calc_discount = round((1 - c.price / c.old_price) * 100, 2)\n",
    "\n",
    "c = c.withColumn('discount', when(c.old_price.isNull(), None).otherwise(calc_discount)). \\\n",
    "    select('shop', 'name', 'weight', 'price', 'old_price', 'price_per_kg',\n",
    "           'old_price_per_kg', 'discount', 'cat', 'product_id', 'type', 'datetm', 'url')\n",
    "c.sort('name').show()\n",
    "\n",
    "c.write.mode('append').parquet('data.parquet')\n"
   ],
   "metadata": {
    "collapsed": false,
    "pycharm": {
     "name": "#%%\n"
    }
   }
  },
  {
   "cell_type": "code",
   "execution_count": null,
   "outputs": [],
   "source": [
    "show(df.min('datetm'))"
   ],
   "metadata": {
    "collapsed": false,
    "pycharm": {
     "name": "#%%\n"
    }
   }
  },
  {
   "cell_type": "code",
   "execution_count": null,
   "outputs": [],
   "source": [
    "c = spark.read.json('data_20_03_15-17_57_28.json')\n",
    "print(f'Read {c.count()} records')\n",
    "c.printSchema()\n",
    "\n",
    "c = c.drop('data-group-quantity', 'data-energy-drink', 'data-amount', 'data-item-weight', 'data-energy-drink'). \\\n",
    "    withColumn('old_price', c['data-old-price'].cast(FloatType())). \\\n",
    "    withColumn('old_price_per_kg', c['data-old-price-per-kg'].cast(FloatType())). \\\n",
    "    withColumn('price', c['data-price'].cast(FloatType())). \\\n",
    "    withColumn('price_per_kg', c['data-price-per-kg'].cast(FloatType())). \\\n",
    "    withColumn('product_id', c['data-product-id'].cast(IntegerType())). \\\n",
    "    withColumn('type', c['data-type'].cast(StringType())). \\\n",
    "    withColumn('weight', c['data-weight'].cast(IntegerType()))\n",
    "\n",
    "calc_discount = round((1 - c.price / c.old_price) * 100, 2)\n",
    "\n",
    "c = c.withColumn('discount', when(c.old_price.isNull(), None).otherwise(calc_discount)). \\\n",
    "    select('shop', 'name', 'weight', 'price', 'old_price', 'price_per_kg',\n",
    "           'old_price_per_kg', 'discount', 'cat', 'product_id', 'type', 'datetm', 'url')\n",
    "c.sort('name').show()\n",
    "\n",
    "c.write.mode('append').parquet('data.parquet')\n"
   ],
   "metadata": {
    "collapsed": false,
    "pycharm": {
     "name": "#%%\n"
    }
   }
  },
  {
   "cell_type": "code",
   "execution_count": null,
   "outputs": [],
   "source": [
    "c = spark.read.json('data_20_03_15-17_57_28.json')\n",
    "print(f'Read {c.count()} records')\n",
    "c.printSchema()\n",
    "\n",
    "c = c.drop('data-group-quantity', 'data-energy-drink', 'data-amount', 'data-item-weight', 'data-energy-drink'). \\\n",
    "    withColumn('old_price', c['data-old-price'].cast(FloatType())). \\\n",
    "    withColumn('old_price_per_kg', c['data-old-price-per-kg'].cast(FloatType())). \\\n",
    "    withColumn('price', c['data-price'].cast(FloatType())). \\\n",
    "    withColumn('price_per_kg', c['data-price-per-kg'].cast(FloatType())). \\\n",
    "    withColumn('product_id', c['data-product-id'].cast(IntegerType())). \\\n",
    "    withColumn('type', c['data-type'].cast(StringType())). \\\n",
    "    withColumn('weight', c['data-weight'].cast(IntegerType()))\n",
    "\n",
    "calc_discount = round((1 - c.price / c.old_price) * 100, 2)\n",
    "\n",
    "c = c.withColumn('discount', when(c.old_price.isNull(), None).otherwise(calc_discount)). \\\n",
    "    select('shop', 'name', 'weight', 'price', 'old_price', 'price_per_kg',\n",
    "           'old_price_per_kg', 'discount', 'cat', 'product_id', 'type', 'datetm', 'url')\n",
    "c.sort('name').show()\n",
    "\n",
    "c.write.mode('append').parquet('data.parquet')\n"
   ],
   "metadata": {
    "collapsed": false,
    "pycharm": {
     "name": "#%%\n"
    }
   }
  },
  {
   "cell_type": "code",
   "execution_count": null,
   "outputs": [],
   "source": [
    "show(df.min('datetm'))"
   ],
   "metadata": {
    "collapsed": false,
    "pycharm": {
     "name": "#%%\n"
    }
   }
  },
  {
   "cell_type": "code",
   "execution_count": null,
   "outputs": [],
   "source": [
    "c = spark.read.json('data_20_03_15-17_57_28.json')\n",
    "print(f'Read {c.count()} records')\n",
    "c.printSchema()\n",
    "\n",
    "c = c.drop('data-group-quantity', 'data-energy-drink', 'data-amount', 'data-item-weight', 'data-energy-drink'). \\\n",
    "    withColumn('old_price', c['data-old-price'].cast(FloatType())). \\\n",
    "    withColumn('old_price_per_kg', c['data-old-price-per-kg'].cast(FloatType())). \\\n",
    "    withColumn('price', c['data-price'].cast(FloatType())). \\\n",
    "    withColumn('price_per_kg', c['data-price-per-kg'].cast(FloatType())). \\\n",
    "    withColumn('product_id', c['data-product-id'].cast(IntegerType())). \\\n",
    "    withColumn('type', c['data-type'].cast(StringType())). \\\n",
    "    withColumn('weight', c['data-weight'].cast(IntegerType()))\n",
    "\n",
    "calc_discount = round((1 - c.price / c.old_price) * 100, 2)\n",
    "\n",
    "c = c.withColumn('discount', when(c.old_price.isNull(), None).otherwise(calc_discount)). \\\n",
    "    select('shop', 'name', 'weight', 'price', 'old_price', 'price_per_kg',\n",
    "           'old_price_per_kg', 'discount', 'cat', 'product_id', 'type', 'datetm', 'url')\n",
    "c.sort('name').show()\n",
    "\n",
    "c.write.mode('append').parquet('data.parquet')\n"
   ],
   "metadata": {
    "collapsed": false,
    "pycharm": {
     "name": "#%%\n"
    }
   }
  },
  {
   "cell_type": "code",
   "execution_count": null,
   "outputs": [],
   "source": [
    "c = spark.read.json('data_20_03_15-17_57_28.json')\n",
    "print(f'Read {c.count()} records')\n",
    "c.printSchema()\n",
    "\n",
    "c = c.drop('data-group-quantity', 'data-energy-drink', 'data-amount', 'data-item-weight', 'data-energy-drink'). \\\n",
    "    withColumn('old_price', c['data-old-price'].cast(FloatType())). \\\n",
    "    withColumn('old_price_per_kg', c['data-old-price-per-kg'].cast(FloatType())). \\\n",
    "    withColumn('price', c['data-price'].cast(FloatType())). \\\n",
    "    withColumn('price_per_kg', c['data-price-per-kg'].cast(FloatType())). \\\n",
    "    withColumn('product_id', c['data-product-id'].cast(IntegerType())). \\\n",
    "    withColumn('type', c['data-type'].cast(StringType())). \\\n",
    "    withColumn('weight', c['data-weight'].cast(IntegerType()))\n",
    "\n",
    "calc_discount = round((1 - c.price / c.old_price) * 100, 2)\n",
    "\n",
    "c = c.withColumn('discount', when(c.old_price.isNull(), None).otherwise(calc_discount)). \\\n",
    "    select('shop', 'name', 'weight', 'price', 'old_price', 'price_per_kg',\n",
    "           'old_price_per_kg', 'discount', 'cat', 'product_id', 'type', 'datetm', 'url')\n",
    "c.sort('name').show()\n",
    "\n",
    "c.write.mode('append').parquet('data.parquet')\n"
   ],
   "metadata": {
    "collapsed": false,
    "pycharm": {
     "name": "#%%\n"
    }
   }
  },
  {
   "cell_type": "code",
   "execution_count": null,
   "outputs": [],
   "source": [
    "show(df.min('datetm'))"
   ],
   "metadata": {
    "collapsed": false,
    "pycharm": {
     "name": "#%%\n"
    }
   }
  },
  {
   "cell_type": "code",
   "execution_count": null,
   "outputs": [],
   "source": [
    "c = spark.read.json('data_20_03_15-17_57_28.json')\n",
    "print(f'Read {c.count()} records')\n",
    "c.printSchema()\n",
    "\n",
    "c = c.drop('data-group-quantity', 'data-energy-drink', 'data-amount', 'data-item-weight', 'data-energy-drink'). \\\n",
    "    withColumn('old_price', c['data-old-price'].cast(FloatType())). \\\n",
    "    withColumn('old_price_per_kg', c['data-old-price-per-kg'].cast(FloatType())). \\\n",
    "    withColumn('price', c['data-price'].cast(FloatType())). \\\n",
    "    withColumn('price_per_kg', c['data-price-per-kg'].cast(FloatType())). \\\n",
    "    withColumn('product_id', c['data-product-id'].cast(IntegerType())). \\\n",
    "    withColumn('type', c['data-type'].cast(StringType())). \\\n",
    "    withColumn('weight', c['data-weight'].cast(IntegerType()))\n",
    "\n",
    "calc_discount = round((1 - c.price / c.old_price) * 100, 2)\n",
    "\n",
    "c = c.withColumn('discount', when(c.old_price.isNull(), None).otherwise(calc_discount)). \\\n",
    "    select('shop', 'name', 'weight', 'price', 'old_price', 'price_per_kg',\n",
    "           'old_price_per_kg', 'discount', 'cat', 'product_id', 'type', 'datetm', 'url')\n",
    "c.sort('name').show()\n",
    "\n",
    "c.write.mode('append').parquet('data.parquet')\n"
   ],
   "metadata": {
    "collapsed": false,
    "pycharm": {
     "name": "#%%\n"
    }
   }
  },
  {
   "cell_type": "code",
   "execution_count": null,
   "outputs": [],
   "source": [
    "c = spark.read.json('data_20_03_15-17_57_28.json')\n",
    "print(f'Read {c.count()} records')\n",
    "c.printSchema()\n",
    "\n",
    "c = c.drop('data-group-quantity', 'data-energy-drink', 'data-amount', 'data-item-weight', 'data-energy-drink'). \\\n",
    "    withColumn('old_price', c['data-old-price'].cast(FloatType())). \\\n",
    "    withColumn('old_price_per_kg', c['data-old-price-per-kg'].cast(FloatType())). \\\n",
    "    withColumn('price', c['data-price'].cast(FloatType())). \\\n",
    "    withColumn('price_per_kg', c['data-price-per-kg'].cast(FloatType())). \\\n",
    "    withColumn('product_id', c['data-product-id'].cast(IntegerType())). \\\n",
    "    withColumn('type', c['data-type'].cast(StringType())). \\\n",
    "    withColumn('weight', c['data-weight'].cast(IntegerType()))\n",
    "\n",
    "calc_discount = round((1 - c.price / c.old_price) * 100, 2)\n",
    "\n",
    "c = c.withColumn('discount', when(c.old_price.isNull(), None).otherwise(calc_discount)). \\\n",
    "    select('shop', 'name', 'weight', 'price', 'old_price', 'price_per_kg',\n",
    "           'old_price_per_kg', 'discount', 'cat', 'product_id', 'type', 'datetm', 'url')\n",
    "c.sort('name').show()\n",
    "\n",
    "c.write.mode('append').parquet('data.parquet')\n"
   ],
   "metadata": {
    "collapsed": false,
    "pycharm": {
     "name": "#%%\n"
    }
   }
  },
  {
   "cell_type": "code",
   "execution_count": null,
   "outputs": [],
   "source": [
    "show(df.min('datetm'))"
   ],
   "metadata": {
    "collapsed": false,
    "pycharm": {
     "name": "#%%\n"
    }
   }
  },
  {
   "cell_type": "code",
   "execution_count": null,
   "outputs": [],
   "source": [
    "c = spark.read.json('data_20_03_15-17_57_28.json')\n",
    "print(f'Read {c.count()} records')\n",
    "c.printSchema()\n",
    "\n",
    "c = c.drop('data-group-quantity', 'data-energy-drink', 'data-amount', 'data-item-weight', 'data-energy-drink'). \\\n",
    "    withColumn('old_price', c['data-old-price'].cast(FloatType())). \\\n",
    "    withColumn('old_price_per_kg', c['data-old-price-per-kg'].cast(FloatType())). \\\n",
    "    withColumn('price', c['data-price'].cast(FloatType())). \\\n",
    "    withColumn('price_per_kg', c['data-price-per-kg'].cast(FloatType())). \\\n",
    "    withColumn('product_id', c['data-product-id'].cast(IntegerType())). \\\n",
    "    withColumn('type', c['data-type'].cast(StringType())). \\\n",
    "    withColumn('weight', c['data-weight'].cast(IntegerType()))\n",
    "\n",
    "calc_discount = round((1 - c.price / c.old_price) * 100, 2)\n",
    "\n",
    "c = c.withColumn('discount', when(c.old_price.isNull(), None).otherwise(calc_discount)). \\\n",
    "    select('shop', 'name', 'weight', 'price', 'old_price', 'price_per_kg',\n",
    "           'old_price_per_kg', 'discount', 'cat', 'product_id', 'type', 'datetm', 'url')\n",
    "c.sort('name').show()\n",
    "\n",
    "c.write.mode('append').parquet('data.parquet')\n"
   ],
   "metadata": {
    "collapsed": false,
    "pycharm": {
     "name": "#%%\n"
    }
   }
  },
  {
   "cell_type": "code",
   "execution_count": null,
   "outputs": [],
   "source": [
    "c = spark.read.json('data_20_03_15-17_57_28.json')\n",
    "print(f'Read {c.count()} records')\n",
    "c.printSchema()\n",
    "\n",
    "c = c.drop('data-group-quantity', 'data-energy-drink', 'data-amount', 'data-item-weight', 'data-energy-drink'). \\\n",
    "    withColumn('old_price', c['data-old-price'].cast(FloatType())). \\\n",
    "    withColumn('old_price_per_kg', c['data-old-price-per-kg'].cast(FloatType())). \\\n",
    "    withColumn('price', c['data-price'].cast(FloatType())). \\\n",
    "    withColumn('price_per_kg', c['data-price-per-kg'].cast(FloatType())). \\\n",
    "    withColumn('product_id', c['data-product-id'].cast(IntegerType())). \\\n",
    "    withColumn('type', c['data-type'].cast(StringType())). \\\n",
    "    withColumn('weight', c['data-weight'].cast(IntegerType()))\n",
    "\n",
    "calc_discount = round((1 - c.price / c.old_price) * 100, 2)\n",
    "\n",
    "c = c.withColumn('discount', when(c.old_price.isNull(), None).otherwise(calc_discount)). \\\n",
    "    select('shop', 'name', 'weight', 'price', 'old_price', 'price_per_kg',\n",
    "           'old_price_per_kg', 'discount', 'cat', 'product_id', 'type', 'datetm', 'url')\n",
    "c.sort('name').show()\n",
    "\n",
    "c.write.mode('append').parquet('data.parquet')\n"
   ],
   "metadata": {
    "collapsed": false,
    "pycharm": {
     "name": "#%%\n"
    }
   }
  },
  {
   "cell_type": "code",
   "execution_count": null,
   "outputs": [],
   "source": [
    "show(df.min('datetm'))"
   ],
   "metadata": {
    "collapsed": false,
    "pycharm": {
     "name": "#%%\n"
    }
   }
  },
  {
   "cell_type": "code",
   "execution_count": null,
   "outputs": [],
   "source": [
    "c = spark.read.json('data_20_03_15-17_57_28.json')\n",
    "print(f'Read {c.count()} records')\n",
    "c.printSchema()\n",
    "\n",
    "c = c.drop('data-group-quantity', 'data-energy-drink', 'data-amount', 'data-item-weight', 'data-energy-drink'). \\\n",
    "    withColumn('old_price', c['data-old-price'].cast(FloatType())). \\\n",
    "    withColumn('old_price_per_kg', c['data-old-price-per-kg'].cast(FloatType())). \\\n",
    "    withColumn('price', c['data-price'].cast(FloatType())). \\\n",
    "    withColumn('price_per_kg', c['data-price-per-kg'].cast(FloatType())). \\\n",
    "    withColumn('product_id', c['data-product-id'].cast(IntegerType())). \\\n",
    "    withColumn('type', c['data-type'].cast(StringType())). \\\n",
    "    withColumn('weight', c['data-weight'].cast(IntegerType()))\n",
    "\n",
    "calc_discount = round((1 - c.price / c.old_price) * 100, 2)\n",
    "\n",
    "c = c.withColumn('discount', when(c.old_price.isNull(), None).otherwise(calc_discount)). \\\n",
    "    select('shop', 'name', 'weight', 'price', 'old_price', 'price_per_kg',\n",
    "           'old_price_per_kg', 'discount', 'cat', 'product_id', 'type', 'datetm', 'url')\n",
    "c.sort('name').show()\n",
    "\n",
    "c.write.mode('append').parquet('data.parquet')\n"
   ],
   "metadata": {
    "collapsed": false,
    "pycharm": {
     "name": "#%%\n"
    }
   }
  },
  {
   "cell_type": "code",
   "execution_count": null,
   "outputs": [],
   "source": [
    "c = spark.read.json('data_20_03_15-17_57_28.json')\n",
    "print(f'Read {c.count()} records')\n",
    "c.printSchema()\n",
    "\n",
    "c = c.drop('data-group-quantity', 'data-energy-drink', 'data-amount', 'data-item-weight', 'data-energy-drink'). \\\n",
    "    withColumn('old_price', c['data-old-price'].cast(FloatType())). \\\n",
    "    withColumn('old_price_per_kg', c['data-old-price-per-kg'].cast(FloatType())). \\\n",
    "    withColumn('price', c['data-price'].cast(FloatType())). \\\n",
    "    withColumn('price_per_kg', c['data-price-per-kg'].cast(FloatType())). \\\n",
    "    withColumn('product_id', c['data-product-id'].cast(IntegerType())). \\\n",
    "    withColumn('type', c['data-type'].cast(StringType())). \\\n",
    "    withColumn('weight', c['data-weight'].cast(IntegerType()))\n",
    "\n",
    "calc_discount = round((1 - c.price / c.old_price) * 100, 2)\n",
    "\n",
    "c = c.withColumn('discount', when(c.old_price.isNull(), None).otherwise(calc_discount)). \\\n",
    "    select('shop', 'name', 'weight', 'price', 'old_price', 'price_per_kg',\n",
    "           'old_price_per_kg', 'discount', 'cat', 'product_id', 'type', 'datetm', 'url')\n",
    "c.sort('name').show()\n",
    "\n",
    "c.write.mode('append').parquet('data.parquet')\n"
   ],
   "metadata": {
    "collapsed": false,
    "pycharm": {
     "name": "#%%\n"
    }
   }
  },
  {
   "cell_type": "code",
   "execution_count": null,
   "outputs": [],
   "source": [
    "show(df.min('datetm'))"
   ],
   "metadata": {
    "collapsed": false,
    "pycharm": {
     "name": "#%%\n"
    }
   }
  },
  {
   "cell_type": "code",
   "execution_count": null,
   "outputs": [],
   "source": [
    "c = spark.read.json('data_20_03_15-17_57_28.json')\n",
    "print(f'Read {c.count()} records')\n",
    "c.printSchema()\n",
    "\n",
    "c = c.drop('data-group-quantity', 'data-energy-drink', 'data-amount', 'data-item-weight', 'data-energy-drink'). \\\n",
    "    withColumn('old_price', c['data-old-price'].cast(FloatType())). \\\n",
    "    withColumn('old_price_per_kg', c['data-old-price-per-kg'].cast(FloatType())). \\\n",
    "    withColumn('price', c['data-price'].cast(FloatType())). \\\n",
    "    withColumn('price_per_kg', c['data-price-per-kg'].cast(FloatType())). \\\n",
    "    withColumn('product_id', c['data-product-id'].cast(IntegerType())). \\\n",
    "    withColumn('type', c['data-type'].cast(StringType())). \\\n",
    "    withColumn('weight', c['data-weight'].cast(IntegerType()))\n",
    "\n",
    "calc_discount = round((1 - c.price / c.old_price) * 100, 2)\n",
    "\n",
    "c = c.withColumn('discount', when(c.old_price.isNull(), None).otherwise(calc_discount)). \\\n",
    "    select('shop', 'name', 'weight', 'price', 'old_price', 'price_per_kg',\n",
    "           'old_price_per_kg', 'discount', 'cat', 'product_id', 'type', 'datetm', 'url')\n",
    "c.sort('name').show()\n",
    "\n",
    "c.write.mode('append').parquet('data.parquet')\n"
   ],
   "metadata": {
    "collapsed": false,
    "pycharm": {
     "name": "#%%\n"
    }
   }
  },
  {
   "cell_type": "code",
   "execution_count": null,
   "outputs": [],
   "source": [
    "c = spark.read.json('data_20_03_15-17_57_28.json')\n",
    "print(f'Read {c.count()} records')\n",
    "c.printSchema()\n",
    "\n",
    "c = c.drop('data-group-quantity', 'data-energy-drink', 'data-amount', 'data-item-weight', 'data-energy-drink'). \\\n",
    "    withColumn('old_price', c['data-old-price'].cast(FloatType())). \\\n",
    "    withColumn('old_price_per_kg', c['data-old-price-per-kg'].cast(FloatType())). \\\n",
    "    withColumn('price', c['data-price'].cast(FloatType())). \\\n",
    "    withColumn('price_per_kg', c['data-price-per-kg'].cast(FloatType())). \\\n",
    "    withColumn('product_id', c['data-product-id'].cast(IntegerType())). \\\n",
    "    withColumn('type', c['data-type'].cast(StringType())). \\\n",
    "    withColumn('weight', c['data-weight'].cast(IntegerType()))\n",
    "\n",
    "calc_discount = round((1 - c.price / c.old_price) * 100, 2)\n",
    "\n",
    "c = c.withColumn('discount', when(c.old_price.isNull(), None).otherwise(calc_discount)). \\\n",
    "    select('shop', 'name', 'weight', 'price', 'old_price', 'price_per_kg',\n",
    "           'old_price_per_kg', 'discount', 'cat', 'product_id', 'type', 'datetm', 'url')\n",
    "c.sort('name').show()\n",
    "\n",
    "c.write.mode('append').parquet('data.parquet')\n"
   ],
   "metadata": {
    "collapsed": false,
    "pycharm": {
     "name": "#%%\n"
    }
   }
  },
  {
   "cell_type": "code",
   "execution_count": null,
   "outputs": [],
   "source": [
    "show(df.min('datetm'))"
   ],
   "metadata": {
    "collapsed": false,
    "pycharm": {
     "name": "#%%\n"
    }
   }
  },
  {
   "cell_type": "code",
   "execution_count": null,
   "outputs": [],
   "source": [
    "c = spark.read.json('data_20_03_15-17_57_28.json')\n",
    "print(f'Read {c.count()} records')\n",
    "c.printSchema()\n",
    "\n",
    "c = c.drop('data-group-quantity', 'data-energy-drink', 'data-amount', 'data-item-weight', 'data-energy-drink'). \\\n",
    "    withColumn('old_price', c['data-old-price'].cast(FloatType())). \\\n",
    "    withColumn('old_price_per_kg', c['data-old-price-per-kg'].cast(FloatType())). \\\n",
    "    withColumn('price', c['data-price'].cast(FloatType())). \\\n",
    "    withColumn('price_per_kg', c['data-price-per-kg'].cast(FloatType())). \\\n",
    "    withColumn('product_id', c['data-product-id'].cast(IntegerType())). \\\n",
    "    withColumn('type', c['data-type'].cast(StringType())). \\\n",
    "    withColumn('weight', c['data-weight'].cast(IntegerType()))\n",
    "\n",
    "calc_discount = round((1 - c.price / c.old_price) * 100, 2)\n",
    "\n",
    "c = c.withColumn('discount', when(c.old_price.isNull(), None).otherwise(calc_discount)). \\\n",
    "    select('shop', 'name', 'weight', 'price', 'old_price', 'price_per_kg',\n",
    "           'old_price_per_kg', 'discount', 'cat', 'product_id', 'type', 'datetm', 'url')\n",
    "c.sort('name').show()\n",
    "\n",
    "c.write.mode('append').parquet('data.parquet')\n"
   ],
   "metadata": {
    "collapsed": false,
    "pycharm": {
     "name": "#%%\n"
    }
   }
  },
  {
   "cell_type": "code",
   "execution_count": null,
   "outputs": [],
   "source": [
    "c = spark.read.json('data_20_03_15-17_57_28.json')\n",
    "print(f'Read {c.count()} records')\n",
    "c.printSchema()\n",
    "\n",
    "c = c.drop('data-group-quantity', 'data-energy-drink', 'data-amount', 'data-item-weight', 'data-energy-drink'). \\\n",
    "    withColumn('old_price', c['data-old-price'].cast(FloatType())). \\\n",
    "    withColumn('old_price_per_kg', c['data-old-price-per-kg'].cast(FloatType())). \\\n",
    "    withColumn('price', c['data-price'].cast(FloatType())). \\\n",
    "    withColumn('price_per_kg', c['data-price-per-kg'].cast(FloatType())). \\\n",
    "    withColumn('product_id', c['data-product-id'].cast(IntegerType())). \\\n",
    "    withColumn('type', c['data-type'].cast(StringType())). \\\n",
    "    withColumn('weight', c['data-weight'].cast(IntegerType()))\n",
    "\n",
    "calc_discount = round((1 - c.price / c.old_price) * 100, 2)\n",
    "\n",
    "c = c.withColumn('discount', when(c.old_price.isNull(), None).otherwise(calc_discount)). \\\n",
    "    select('shop', 'name', 'weight', 'price', 'old_price', 'price_per_kg',\n",
    "           'old_price_per_kg', 'discount', 'cat', 'product_id', 'type', 'datetm', 'url')\n",
    "c.sort('name').show()\n",
    "\n",
    "c.write.mode('append').parquet('data.parquet')\n"
   ],
   "metadata": {
    "collapsed": false,
    "pycharm": {
     "name": "#%%\n"
    }
   }
  },
  {
   "cell_type": "code",
   "execution_count": 16,
   "metadata": {
    "pycharm": {
     "name": "#%%\n"
    }
   },
   "outputs": [
    {
     "name": "stdout",
     "output_type": "stream",
     "text": [
      "108984\n",
      "+------+--------------------+------+------+---------+------------+----------------+--------+---+----------+-----+--------------------+--------------------+\n",
      "|  shop|                name|weight| price|old_price|price_per_kg|old_price_per_kg|discount|cat|product_id| type|              datetm|                 url|\n",
      "+------+--------------------+------+------+---------+------------+----------------+--------+---+----------+-----+--------------------+--------------------+\n",
      "|prisma|Лаваш Армянский д...|   250|  59.9|     null|       239.6|            null|    null| 77|    537984|piece|2020-03-15 19:44:...|/products/48337-l...|\n",
      "|prisma|Минибагет Песто Т...|   130|  51.9|     null|      399.23|            null|    null| 77|    228718|piece|2020-03-15 19:44:...|/products/27666-m...|\n",
      "|prisma|Напиток безалкого...|  1500| 113.9|     null|       75.93|            null|    null| 11|    905616|piece|2020-03-15 19:44:...|/products/67520-n...|\n",
      "|prisma|Напиток безалкого...|   200|  24.9|     null|       124.5|            null|    null| 11|    342993|piece|2020-03-15 19:44:...|/products/48236-n...|\n",
      "|prisma|Напиток энергетич...|   500| 119.9|     null|       239.8|            null|    null| 11|   4725799|piece|2020-03-15 19:45:...|/products/37841-n...|\n",
      "|prisma|Напиток Вишневая ...|  1930| 157.9|     null|       81.81|            null|    null| 11|    222480|piece|2020-03-15 19:45:...|/products/18034-n...|\n",
      "|prisma|Напиток сокосодер...|  1000|  84.9|     null|        84.9|            null|    null|105|   2557195|piece|2020-03-15 19:45:...|/products/95862-n...|\n",
      "|prisma|Ассорти желейных,...|   250| 159.9|     null|       639.6|            null|    null|  9|    227527|piece|2020-03-15 19:46:...|/products/24027-a...|\n",
      "|prisma|Драже Морские кам...|   200|  40.4|     null|       202.0|            null|    null|  9|    219512|piece|2020-03-15 19:46:...|/products/33161-d...|\n",
      "|prisma|   Трюфель ТМ Победа|   180| 302.0|     null|     1677.78|            null|    null|  9|    229861|piece|2020-03-15 19:47:...|/products/23537-t...|\n",
      "|prisma|Печенье с цельноз...|   171|  74.9|     99.9|      438.01|        584.2105|   25.03|  9|   3456283|piece|2020-03-15 19:47:...|/products/129482-...|\n",
      "|prisma|Молочный шоколад ...|   200| 299.9|     null|      1499.5|            null|    null| 84|   4266310|piece|2020-03-15 19:49:...|/products/139914-...|\n",
      "|prisma|Батончик из молоч...|    37|  64.9|     null|     1754.05|            null|    null| 84|   1436017|piece|2020-03-15 19:49:...|/products/80005-b...|\n",
      "|prisma|Чай черный с аром...|    35| 259.9|     null|     7425.71|            null|    null|110|   1874035|piece|2020-03-15 19:50:...|/products/86958-c...|\n",
      "|prisma|Чай зеленый весен...|    50|  64.9|     null|      1298.0|            null|    null|110|    914797|piece|2020-03-15 19:50:...|/products/70246-c...|\n",
      "|prisma|Кофе свежеобжарен...|  1000|1104.0|     null|      1104.0|            null|    null|113|   1422588|piece|2020-03-15 19:51:...|/products/79068-k...|\n",
      "|prisma|Грибы Белые марин...|   260| 499.9|     null|     1922.69|            null|    null|  7|    653835|piece|2020-03-15 19:51:...|/products/49552-g...|\n",
      "|prisma|Баклажаны печёные...|   550| 157.9|     null|      287.09|            null|    null|  7|   4631021|piece|2020-03-15 19:51:...|/products/157282-...|\n",
      "|prisma|Краситель жидкий ...|    25|  99.9|     null|      3996.0|            null|    null| 10|   2430406|piece|2020-03-15 19:53:...|/products/60266-k...|\n",
      "|prisma|Мюсли запеченные ...|   350|  94.9|     null|      271.14|            null|    null| 10|    224246|piece|2020-03-15 19:53:...|/products/2727-my...|\n",
      "+------+--------------------+------+------+---------+------------+----------------+--------+---+----------+-----+--------------------+--------------------+\n",
      "only showing top 20 rows\n",
      "\n"
     ]
    },
    {
     "data": {
      "text/plain": [
       "DataFrame[shop: string, name: string, weight: int, price: float, old_price: float, price_per_kg: float, old_price_per_kg: float, discount: double, cat: string, product_id: int, type: string, datetm: string, url: string]"
      ]
     },
     "execution_count": 16,
     "metadata": {},
     "output_type": "execute_result"
    }
   ],
   "source": [
    "show(df.min('datetm'))"
   ]
  },
  {
   "cell_type": "code",
   "execution_count": null,
   "metadata": {
    "pycharm": {
     "name": "#%%\n"
    }
   },
   "outputs": [],
   "source": [
    "c = spark.read.json('data_20_03_15-17_57_28.json')\n",
    "print(f'Read {c.count()} records')\n",
    "c.printSchema()\n",
    "\n",
    "c = c.drop('data-group-quantity', 'data-energy-drink', 'data-amount', 'data-item-weight', 'data-energy-drink'). \\\n",
    "    withColumn('old_price', c['data-old-price'].cast(FloatType())). \\\n",
    "    withColumn('old_price_per_kg', c['data-old-price-per-kg'].cast(FloatType())). \\\n",
    "    withColumn('price', c['data-price'].cast(FloatType())). \\\n",
    "    withColumn('price_per_kg', c['data-price-per-kg'].cast(FloatType())). \\\n",
    "    withColumn('product_id', c['data-product-id'].cast(IntegerType())). \\\n",
    "    withColumn('type', c['data-type'].cast(StringType())). \\\n",
    "    withColumn('weight', c['data-weight'].cast(IntegerType()))\n",
    "\n",
    "calc_discount = round((1 - c.price / c.old_price) * 100, 2)\n",
    "\n",
    "c = c.withColumn('discount', when(c.old_price.isNull(), None).otherwise(calc_discount)). \\\n",
    "    select('shop', 'name', 'weight', 'price', 'old_price', 'price_per_kg',\n",
    "           'old_price_per_kg', 'discount', 'cat', 'product_id', 'type', 'datetm', 'url')\n",
    "c.sort('name').show()\n",
    "\n",
    "c.write.mode('append').parquet('data.parquet')\n"
   ]
  },
  {
   "cell_type": "code",
   "execution_count": null,
   "metadata": {
    "pycharm": {
     "name": "#%%\n"
    }
   },
   "outputs": [],
   "source": [
    "c = spark.read.json('data_20_03_15-17_57_28.json')\n",
    "print(f'Read {c.count()} records')\n",
    "c.printSchema()\n",
    "\n",
    "c = c.drop('data-group-quantity', 'data-energy-drink', 'data-amount', 'data-item-weight', 'data-energy-drink'). \\\n",
    "    withColumn('old_price', c['data-old-price'].cast(FloatType())). \\\n",
    "    withColumn('old_price_per_kg', c['data-old-price-per-kg'].cast(FloatType())). \\\n",
    "    withColumn('price', c['data-price'].cast(FloatType())). \\\n",
    "    withColumn('price_per_kg', c['data-price-per-kg'].cast(FloatType())). \\\n",
    "    withColumn('product_id', c['data-product-id'].cast(IntegerType())). \\\n",
    "    withColumn('type', c['data-type'].cast(StringType())). \\\n",
    "    withColumn('weight', c['data-weight'].cast(IntegerType()))\n",
    "\n",
    "calc_discount = round((1 - c.price / c.old_price) * 100, 2)\n",
    "\n",
    "c = c.withColumn('discount', when(c.old_price.isNull(), None).otherwise(calc_discount)). \\\n",
    "    select('shop', 'name', 'weight', 'price', 'old_price', 'price_per_kg',\n",
    "           'old_price_per_kg', 'discount', 'cat', 'product_id', 'type', 'datetm', 'url')\n",
    "c.sort('name').show()\n",
    "\n",
    "c.write.mode('append').parquet('data.parquet')\n"
   ]
  },
  {
   "cell_type": "code",
   "execution_count": null,
   "metadata": {
    "pycharm": {
     "name": "#%%\n"
    }
   },
   "outputs": [],
   "source": [
    "show(df.min('datetm'))"
   ]
  },
  {
   "cell_type": "code",
   "execution_count": null,
   "metadata": {
    "pycharm": {
     "name": "#%%\n"
    }
   },
   "outputs": [],
   "source": [
    "c = spark.read.json('data_20_03_15-17_57_28.json')\n",
    "print(f'Read {c.count()} records')\n",
    "c.printSchema()\n",
    "\n",
    "c = c.drop('data-group-quantity', 'data-energy-drink', 'data-amount', 'data-item-weight', 'data-energy-drink'). \\\n",
    "    withColumn('old_price', c['data-old-price'].cast(FloatType())). \\\n",
    "    withColumn('old_price_per_kg', c['data-old-price-per-kg'].cast(FloatType())). \\\n",
    "    withColumn('price', c['data-price'].cast(FloatType())). \\\n",
    "    withColumn('price_per_kg', c['data-price-per-kg'].cast(FloatType())). \\\n",
    "    withColumn('product_id', c['data-product-id'].cast(IntegerType())). \\\n",
    "    withColumn('type', c['data-type'].cast(StringType())). \\\n",
    "    withColumn('weight', c['data-weight'].cast(IntegerType()))\n",
    "\n",
    "calc_discount = round((1 - c.price / c.old_price) * 100, 2)\n",
    "\n",
    "c = c.withColumn('discount', when(c.old_price.isNull(), None).otherwise(calc_discount)). \\\n",
    "    select('shop', 'name', 'weight', 'price', 'old_price', 'price_per_kg',\n",
    "           'old_price_per_kg', 'discount', 'cat', 'product_id', 'type', 'datetm', 'url')\n",
    "c.sort('name').show()\n",
    "\n",
    "c.write.mode('append').parquet('data.parquet')\n"
   ]
  },
  {
   "cell_type": "code",
   "execution_count": null,
   "metadata": {
    "pycharm": {
     "name": "#%%\n"
    }
   },
   "outputs": [],
   "source": [
    "c = spark.read.json('data_20_03_15-17_57_28.json')\n",
    "print(f'Read {c.count()} records')\n",
    "c.printSchema()\n",
    "\n",
    "c = c.drop('data-group-quantity', 'data-energy-drink', 'data-amount', 'data-item-weight', 'data-energy-drink'). \\\n",
    "    withColumn('old_price', c['data-old-price'].cast(FloatType())). \\\n",
    "    withColumn('old_price_per_kg', c['data-old-price-per-kg'].cast(FloatType())). \\\n",
    "    withColumn('price', c['data-price'].cast(FloatType())). \\\n",
    "    withColumn('price_per_kg', c['data-price-per-kg'].cast(FloatType())). \\\n",
    "    withColumn('product_id', c['data-product-id'].cast(IntegerType())). \\\n",
    "    withColumn('type', c['data-type'].cast(StringType())). \\\n",
    "    withColumn('weight', c['data-weight'].cast(IntegerType()))\n",
    "\n",
    "calc_discount = round((1 - c.price / c.old_price) * 100, 2)\n",
    "\n",
    "c = c.withColumn('discount', when(c.old_price.isNull(), None).otherwise(calc_discount)). \\\n",
    "    select('shop', 'name', 'weight', 'price', 'old_price', 'price_per_kg',\n",
    "           'old_price_per_kg', 'discount', 'cat', 'product_id', 'type', 'datetm', 'url')\n",
    "c.sort('name').show()\n",
    "\n",
    "c.write.mode('append').parquet('data.parquet')\n"
   ]
  },
  {
   "cell_type": "code",
   "execution_count": null,
   "metadata": {
    "pycharm": {
     "name": "#%%\n"
    }
   },
   "outputs": [],
   "source": [
    "show(df.min('datetm'))"
   ]
  },
  {
   "cell_type": "code",
   "execution_count": null,
   "metadata": {
    "pycharm": {
     "name": "#%%\n"
    }
   },
   "outputs": [],
   "source": [
    "c = spark.read.json('data_20_03_15-17_57_28.json')\n",
    "print(f'Read {c.count()} records')\n",
    "c.printSchema()\n",
    "\n",
    "c = c.drop('data-group-quantity', 'data-energy-drink', 'data-amount', 'data-item-weight', 'data-energy-drink'). \\\n",
    "    withColumn('old_price', c['data-old-price'].cast(FloatType())). \\\n",
    "    withColumn('old_price_per_kg', c['data-old-price-per-kg'].cast(FloatType())). \\\n",
    "    withColumn('price', c['data-price'].cast(FloatType())). \\\n",
    "    withColumn('price_per_kg', c['data-price-per-kg'].cast(FloatType())). \\\n",
    "    withColumn('product_id', c['data-product-id'].cast(IntegerType())). \\\n",
    "    withColumn('type', c['data-type'].cast(StringType())). \\\n",
    "    withColumn('weight', c['data-weight'].cast(IntegerType()))\n",
    "\n",
    "calc_discount = round((1 - c.price / c.old_price) * 100, 2)\n",
    "\n",
    "c = c.withColumn('discount', when(c.old_price.isNull(), None).otherwise(calc_discount)). \\\n",
    "    select('shop', 'name', 'weight', 'price', 'old_price', 'price_per_kg',\n",
    "           'old_price_per_kg', 'discount', 'cat', 'product_id', 'type', 'datetm', 'url')\n",
    "c.sort('name').show()\n",
    "\n",
    "c.write.mode('append').parquet('data.parquet')\n"
   ]
  },
  {
   "cell_type": "code",
   "execution_count": 7,
   "metadata": {},
   "outputs": [
    {
     "name": "stdout",
     "output_type": "stream",
     "text": [
      "217968\n",
      "+------+--------------------+------+-----+---------+------------+----------------+--------+---+----------+-----+--------------------+--------------------+\n",
      "|  shop|                name|weight|price|old_price|price_per_kg|old_price_per_kg|discount|cat|product_id| type|              datetm|                 url|\n",
      "+------+--------------------+------+-----+---------+------------+----------------+--------+---+----------+-----+--------------------+--------------------+\n",
      "|prisma|Чиабатта в газово...|   250| 99.9|     null|       399.6|            null|    null|  8|    226301|piece|2020-03-15 19:43:...|/products/27683-c...|\n",
      "|prisma|Сдоба Наслаждение...|   230|123.9|     null|       538.7|            null|    null|  8|    536951|piece|2020-03-15 19:43:...|/products/43616-s...|\n",
      "|prisma|Хлебец Подовый с ...|   300| 44.9|     60.9|      149.67|           203.0|   26.27|  8|    222117|piece|2020-03-15 19:43:...|/products/16970-h...|\n",
      "|prisma|Хлебцы порционные...|   240| 65.9|     null|      274.58|            null|    null|  8|    279814|piece|2020-03-15 19:43:...|/products/41082-h...|\n",
      "|prisma|Хлеб Фермерский с...|   330| 49.9|     null|      151.21|            null|    null|  8|   4889978|piece|2020-03-15 19:43:...|/products/73808-h...|\n",
      "|prisma|Хлеб белый pan bl...|   250|213.9|     null|       855.6|            null|    null|  8|   1642249|piece|2020-03-15 19:43:...|/products/85039-h...|\n",
      "|prisma|Пирожок Шереметов...|    70| 27.9|     45.9|      398.57|        655.7143|   39.22|  8|    442326|piece|2020-03-15 19:43:...|/products/43619-p...|\n",
      "|prisma|Хлеб Бородинский ...|   400| 56.9|     null|      142.25|            null|    null|  8|    228278|piece|2020-03-15 19:43:...|/products/27668-h...|\n",
      "|prisma|Сухарики Голландс...|   150|109.9|     null|      732.67|            null|    null|  8|    732154|piece|2020-03-15 19:43:...|/products/64143-s...|\n",
      "|prisma|Мини круассаны с ...|   105| 49.9|     null|      475.24|            null|    null|  8|    707652|piece|2020-03-15 19:43:...|/products/61700-m...|\n",
      "|prisma|Сочень с творожно...|   120| 61.9|     null|      515.83|            null|    null|  8|    225959|piece|2020-03-15 19:43:...|/products/25544-s...|\n",
      "|prisma|Сухарики ржаные Т...|   200|111.9|    149.9|       559.5|           749.5|   25.35|  8|    227035|piece|2020-03-15 19:43:...|/products/27716-s...|\n",
      "|prisma|Хлеб с фундуком, ...|   205|119.9|     null|      584.88|            null|    null|  8|    228728|piece|2020-03-15 19:43:...|/products/27640-h...|\n",
      "|prisma|Краюшки ржано-пше...|   240| 69.9|     null|      291.25|            null|    null|  8|    226036|piece|2020-03-15 19:43:...|/products/1569-kr...|\n",
      "|prisma|Сухарики ржаные Т...|   200|111.9|    149.9|       559.5|           749.5|   25.35|  8|    227035|piece|2020-03-15 19:43:...|/products/27716-s...|\n",
      "|prisma|Хлеб Домашний без...|   400|109.9|     null|      274.75|            null|    null|  8|    228727|piece|2020-03-15 19:43:...|/products/27645-h...|\n",
      "|prisma|Хлеб Английский д...|   200| 29.9|     51.9|       149.5|           259.5|   42.39|  8|    230083|piece|2020-03-15 19:43:...|/products/27614-h...|\n",
      "|prisma|Хлеб с фундуком, ...|   205|119.9|     null|      584.88|            null|    null|  8|    228728|piece|2020-03-15 19:43:...|/products/27640-h...|\n",
      "|prisma|Хлебцы пшеничные ...|   250|199.9|     null|       799.6|            null|    null|  8|    230479|piece|2020-03-15 19:43:...|/products/29608-h...|\n",
      "|prisma|Хлебцы ржаные ТМ ...|   460|239.9|     null|      521.52|            null|    null|  8|   4588126|piece|2020-03-15 19:43:...|/products/156177-...|\n",
      "+------+--------------------+------+-----+---------+------------+----------------+--------+---+----------+-----+--------------------+--------------------+\n",
      "only showing top 20 rows\n",
      "\n"
     ]
    }
   ],
   "source": [
    "c = spark.read.json('data_20_03_15-17_57_28.json')\n",
    "print(f'Read {c.count()} records')\n",
    "c.printSchema()\n",
    "\n",
    "c = c.drop('data-group-quantity', 'data-energy-drink', 'data-amount', 'data-item-weight', 'data-energy-drink'). \\\n",
    "    withColumn('old_price', c['data-old-price'].cast(FloatType())). \\\n",
    "    withColumn('old_price_per_kg', c['data-old-price-per-kg'].cast(FloatType())). \\\n",
    "    withColumn('price', c['data-price'].cast(FloatType())). \\\n",
    "    withColumn('price_per_kg', c['data-price-per-kg'].cast(FloatType())). \\\n",
    "    withColumn('product_id', c['data-product-id'].cast(IntegerType())). \\\n",
    "    withColumn('type', c['data-type'].cast(StringType())). \\\n",
    "    withColumn('weight', c['data-weight'].cast(IntegerType()))\n",
    "\n",
    "calc_discount = round((1 - c.price / c.old_price) * 100, 2)\n",
    "\n",
    "c = c.withColumn('discount', when(c.old_price.isNull(), None).otherwise(calc_discount)). \\\n",
    "    select('shop', 'name', 'weight', 'price', 'old_price', 'price_per_kg',\n",
    "           'old_price_per_kg', 'discount', 'cat', 'product_id', 'type', 'datetm', 'url')\n",
    "c.sort('name').show()\n",
    "\n",
    "c.write.mode('append').parquet('data.parquet')\n"
   ]
  },
  {
   "cell_type": "code",
   "execution_count": 10,
   "metadata": {},
   "outputs": [
    {
     "ename": "AttributeError",
     "evalue": "'DataFrame' object has no attribute 'min'",
     "output_type": "error",
     "traceback": [
      "\u001b[0;31m---------------------------------------------------------------------------\u001b[0m",
      "\u001b[0;31mAttributeError\u001b[0m                            Traceback (most recent call last)",
      "\u001b[0;32m<ipython-input-10-8b392638b7c4>\u001b[0m in \u001b[0;36m<module>\u001b[0;34m\u001b[0m\n\u001b[0;32m----> 1\u001b[0;31m \u001b[0mshow\u001b[0m\u001b[0;34m(\u001b[0m\u001b[0mdf\u001b[0m\u001b[0;34m.\u001b[0m\u001b[0mmin\u001b[0m\u001b[0;34m(\u001b[0m\u001b[0;34m'datetm'\u001b[0m\u001b[0;34m)\u001b[0m\u001b[0;34m)\u001b[0m\u001b[0;34m\u001b[0m\u001b[0;34m\u001b[0m\u001b[0m\n\u001b[0m",
      "\u001b[0;32m/usr/local/spark/python/pyspark/sql/dataframe.py\u001b[0m in \u001b[0;36m__getattr__\u001b[0;34m(self, name)\u001b[0m\n\u001b[1;32m   1302\u001b[0m         \u001b[0;32mif\u001b[0m \u001b[0mname\u001b[0m \u001b[0;32mnot\u001b[0m \u001b[0;32min\u001b[0m \u001b[0mself\u001b[0m\u001b[0;34m.\u001b[0m\u001b[0mcolumns\u001b[0m\u001b[0;34m:\u001b[0m\u001b[0;34m\u001b[0m\u001b[0;34m\u001b[0m\u001b[0m\n\u001b[1;32m   1303\u001b[0m             raise AttributeError(\n\u001b[0;32m-> 1304\u001b[0;31m                 \"'%s' object has no attribute '%s'\" % (self.__class__.__name__, name))\n\u001b[0m\u001b[1;32m   1305\u001b[0m         \u001b[0mjc\u001b[0m \u001b[0;34m=\u001b[0m \u001b[0mself\u001b[0m\u001b[0;34m.\u001b[0m\u001b[0m_jdf\u001b[0m\u001b[0;34m.\u001b[0m\u001b[0mapply\u001b[0m\u001b[0;34m(\u001b[0m\u001b[0mname\u001b[0m\u001b[0;34m)\u001b[0m\u001b[0;34m\u001b[0m\u001b[0;34m\u001b[0m\u001b[0m\n\u001b[1;32m   1306\u001b[0m         \u001b[0;32mreturn\u001b[0m \u001b[0mColumn\u001b[0m\u001b[0;34m(\u001b[0m\u001b[0mjc\u001b[0m\u001b[0;34m)\u001b[0m\u001b[0;34m\u001b[0m\u001b[0;34m\u001b[0m\u001b[0m\n",
      "\u001b[0;31mAttributeError\u001b[0m: 'DataFrame' object has no attribute 'min'"
     ]
    }
   ],
   "source": [
    "show(df.min('datetm'))"
   ]
  },
  {
   "cell_type": "code",
   "execution_count": 5,
   "metadata": {},
   "outputs": [
    {
     "name": "stdout",
     "output_type": "stream",
     "text": [
      "Read 108984 records\n",
      "root\n",
      " |-- cat: string (nullable = true)\n",
      " |-- data-amount: string (nullable = true)\n",
      " |-- data-energy-drink: string (nullable = true)\n",
      " |-- data-group-quantity: string (nullable = true)\n",
      " |-- data-item-weight: string (nullable = true)\n",
      " |-- data-old-price: string (nullable = true)\n",
      " |-- data-old-price-per-kg: string (nullable = true)\n",
      " |-- data-price: string (nullable = true)\n",
      " |-- data-price-per-kg: string (nullable = true)\n",
      " |-- data-product-id: string (nullable = true)\n",
      " |-- data-type: string (nullable = true)\n",
      " |-- data-weight: string (nullable = true)\n",
      " |-- datetm: string (nullable = true)\n",
      " |-- name: string (nullable = true)\n",
      " |-- shop: string (nullable = true)\n",
      " |-- url: string (nullable = true)\n",
      "\n",
      "+-------+--------------------+------+------+---------+------------+----------------+--------+---+----------+-----+--------------------+--------------------+\n",
      "|   shop|                name|weight| price|old_price|price_per_kg|old_price_per_kg|discount|cat|product_id| type|              datetm|                 url|\n",
      "+-------+--------------------+------+------+---------+------------+----------------+--------+---+----------+-----+--------------------+--------------------+\n",
      "|karusel| Антиперспирант-к...|    49|199.99|     null|     4081.43|            null|    null|140|   1007746|piece|2020-03-15 21:44:...|/products/35828-a...|\n",
      "|karusel| Антиперспирант-к...|    49|199.99|     null|     4081.43|            null|    null| 15|   1007746|piece|2020-03-15 21:40:...|/products/35828-a...|\n",
      "|  metro| Антиперспирант-к...|    49| 190.0|     null|     3877.55|            null|    null|140|    137598|piece|2020-03-15 19:09:...|/products/35828-a...|\n",
      "|karusel| Бальзам для особ...|   225| 97.99|     null|      435.51|            null|    null|134|   1019125|piece|2020-03-15 21:42:...|/products/69880-b...|\n",
      "|karusel| Бальзам для особ...|   225| 97.99|     null|      435.51|            null|    null| 15|   1019125|piece|2020-03-15 21:39:...|/products/69880-b...|\n",
      "|  metro| Банановое суфле ...|   500| 175.0|     null|       350.0|            null|    null| 86|   4724868|piece|2020-03-15 18:34:...|/products/158824-...|\n",
      "|  metro| Банановое суфле ...|   500| 175.0|     null|       350.0|            null|    null|  9|   4724868|piece|2020-03-15 18:29:...|/products/158824-...|\n",
      "|  metro| Бесшумная клейка...|    50| 109.0|     null|      2180.0|            null|    null|183|    247860|piece|2020-03-15 19:22:...|/products/41054-b...|\n",
      "|  metro| Бесшумная клейка...|    50| 109.0|     null|      2180.0|            null|    null|178|    247860|piece|2020-03-15 19:19:...|/products/41054-b...|\n",
      "|karusel| Био-скраб для те...|   390|223.99|     null|      574.33|            null|    null|136|   3096863|piece|2020-03-15 21:43:...|/products/123290-...|\n",
      "|karusel| Био-скраб для те...|   390|223.99|     null|      574.33|            null|    null| 15|   3096863|piece|2020-03-15 21:41:...|/products/123290-...|\n",
      "| prisma| Варенье имбирное...|   400| 169.9|     null|      424.75|            null|    null|  7|   1092673|piece|2020-03-15 19:51:...|/products/72025-v...|\n",
      "|  lenta| Витаминный напит...|   500|157.89|     null|      315.78|            null|    null|247|   3745705|piece|2020-03-15 21:11:...|/products/133869-...|\n",
      "|  lenta| Гель для душа де...|   246|146.31|     null|      594.76|            null|    null| 14|    902560|piece|2020-03-15 21:01:...|/products/67116-g...|\n",
      "|  lenta| Гель для душа де...|   246|146.31|     null|      594.76|            null|    null|122|    902560|piece|2020-03-15 21:01:...|/products/67116-g...|\n",
      "|  metro| Гель для стирки ...|  1500| 514.0|     null|      342.67|            null|    null| 16|   4787946|piece|2020-03-15 18:56:...|/products/160509-...|\n",
      "|  metro| Гель для стирки ...|  1500| 514.0|     null|      342.67|            null|    null|141|   4787946|piece|2020-03-15 18:57:...|/products/160509-...|\n",
      "|karusel| Дезодорант аэроз...|    98|256.99|     null|     2622.35|            null|    null| 15|   1006082|piece|2020-03-15 21:41:...|/products/34747-d...|\n",
      "|  metro| Дезодорант аэроз...|    98| 249.0|     null|     2540.82|            null|    null| 15|    127207|piece|2020-03-15 19:02:...|/products/34747-d...|\n",
      "|karusel| Дезодорант аэроз...|    98|256.99|     null|     2622.35|            null|    null|140|   1006082|piece|2020-03-15 21:44:...|/products/34747-d...|\n",
      "+-------+--------------------+------+------+---------+------------+----------------+--------+---+----------+-----+--------------------+--------------------+\n",
      "only showing top 20 rows\n",
      "\n"
     ]
    }
   ],
   "source": [
    "c = spark.read.json('data_20_03_15-17_57_28.json')\n",
    "print(f'Read {c.count()} records')\n",
    "c.printSchema()\n",
    "\n",
    "c = c.drop('data-group-quantity', 'data-energy-drink', 'data-amount', 'data-item-weight', 'data-energy-drink'). \\\n",
    "    withColumn('old_price', c['data-old-price'].cast(FloatType())). \\\n",
    "    withColumn('old_price_per_kg', c['data-old-price-per-kg'].cast(FloatType())). \\\n",
    "    withColumn('price', c['data-price'].cast(FloatType())). \\\n",
    "    withColumn('price_per_kg', c['data-price-per-kg'].cast(FloatType())). \\\n",
    "    withColumn('product_id', c['data-product-id'].cast(IntegerType())). \\\n",
    "    withColumn('type', c['data-type'].cast(StringType())). \\\n",
    "    withColumn('weight', c['data-weight'].cast(IntegerType()))\n",
    "\n",
    "calc_discount = round((1 - c.price / c.old_price) * 100, 2)\n",
    "\n",
    "c = c.withColumn('discount', when(c.old_price.isNull(), None).otherwise(calc_discount)). \\\n",
    "    select('shop', 'name', 'weight', 'price', 'old_price', 'price_per_kg',\n",
    "           'old_price_per_kg', 'discount', 'cat', 'product_id', 'type', 'datetm', 'url')\n",
    "c.sort('name').show()\n",
    "\n",
    "c.write.mode('append').parquet('data.parquet')\n"
   ]
  }
 ],
 "metadata": {
  "kernelspec": {
   "display_name": "Python 3",
   "language": "python",
   "name": "python3"
  },
  "language_info": {
   "codemirror_mode": {
    "name": "ipython",
    "version": 3
   },
   "file_extension": ".py",
   "mimetype": "text/x-python",
   "name": "python",
   "nbconvert_exporter": "python",
   "pygments_lexer": "ipython3",
   "version": "3.7.6"
  },
  "pycharm": {
   "stem_cell": {
    "cell_type": "raw",
    "source": [],
    "metadata": {
     "collapsed": false
    }
   }
  }
 },
 "nbformat": 4,
 "nbformat_minor": 1
}