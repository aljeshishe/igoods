{
 "cells": [
  {
   "cell_type": "code",
   "execution_count": 2,
   "metadata": {},
   "outputs": [
    {
     "name": "stdout",
     "output_type": "stream",
     "text": [
      "processing /home/jovyan/work/jsons/20_04_05__03_00_20.json\n",
      "56256 records read from json\n",
      "+-------+--------------------+------+------+---------+------------+----------------+--------+---+----------+-----+--------------------+--------------------+\n",
      "|   shop|                name|weight| price|old_price|price_per_kg|old_price_per_kg|discount|cat|product_id| type|              datetm|                 url|\n",
      "+-------+--------------------+------+------+---------+------------+----------------+--------+---+----------+-----+--------------------+--------------------+\n",
      "|karusel| Антиперспирант-к...|    49|199.99|     null|     4081.43|            null|    null| 15|   1007746|piece|2020-04-05 03:25:...|/products/35828-a...|\n",
      "|  metro| Антиперспирант-к...|    49| 190.0|     null|     3877.55|            null|    null| 15|    137598|piece|2020-04-05 03:03:...|/products/35828-a...|\n",
      "|karusel| Бальзам для особ...|   225| 97.99|     null|      435.51|            null|    null| 15|   1019125|piece|2020-04-05 03:25:...|/products/69880-b...|\n",
      "|  metro| Банановое суфле ...|   500| 175.0|     null|       350.0|            null|    null|  9|   4724868|piece|2020-04-05 03:10:...|/products/158824-...|\n",
      "|  lenta| Батарейки АА ТМ ...|   100|105.29|     null|      1052.9|            null|    null|230|    615235|piece|2020-04-05 03:21:...|/products/48607-b...|\n",
      "+-------+--------------------+------+------+---------+------------+----------------+--------+---+----------+-----+--------------------+--------------------+\n",
      "only showing top 5 rows\n",
      "\n",
      "771056 records read from in store\n",
      "827312 records after union\n",
      "826431(+55375) records saving to store (after drop duplicates by date product_id)\n"
     ]
    },
    {
     "name": "stderr",
     "output_type": "stream",
     "text": [
      "20/04/05 08:36:31 WARN NativeCodeLoader: Unable to load native-hadoop library for your platform... using builtin-java classes where applicable\n",
      "Using Spark's default log4j profile: org/apache/spark/log4j-defaults.properties\n",
      "Setting default log level to \"WARN\".\n",
      "To adjust logging level use sc.setLogLevel(newLevel). For SparkR, use setLogLevel(newLevel).\n",
      "20/04/05 08:36:32 WARN Utils: Service 'SparkUI' could not bind on port 4040. Attempting port 4041.\n",
      "\r",
      "[Stage 0:>                                                          (0 + 1) / 1]\r",
      "                                                                                \r",
      "\r",
      "[Stage 1:>                                                          (0 + 1) / 1]\r",
      "                                                                                \r",
      "\r",
      "[Stage 3:>                                                          (0 + 1) / 1]\r",
      "                                                                                \r",
      "\r",
      "[Stage 7:=============================>                             (1 + 1) / 2]\r",
      "                                                                                \r",
      "\r",
      "[Stage 9:>                                                          (0 + 1) / 2]\r",
      "[Stage 9:=============================>                             (1 + 1) / 2]\r",
      "[Stage 10:=====>                                                 (21 + 1) / 200]\r",
      "[Stage 10:=======>                                               (29 + 1) / 200]\r",
      "[Stage 10:=========>                                             (36 + 1) / 200]\r",
      "[Stage 10:===========>                                           (41 + 1) / 200]\r",
      "[Stage 10:==============>                                        (51 + 1) / 200]\r",
      "[Stage 10:================>                                      (59 + 1) / 200]\r",
      "[Stage 10:==================>                                    (69 + 1) / 200]\r",
      "[Stage 10:=====================>                                 (79 + 1) / 200]\r",
      "[Stage 10:========================>                              (90 + 1) / 200]\r",
      "[Stage 10:===========================>                          (102 + 1) / 200]\r",
      "[Stage 10:==============================>                       (113 + 1) / 200]\r",
      "[Stage 10:=================================>                    (124 + 1) / 200]\r",
      "[Stage 10:====================================>                 (135 + 1) / 200]\r",
      "[Stage 10:=======================================>              (146 + 1) / 200]\r",
      "[Stage 10:===========================================>          (160 + 1) / 200]\r",
      "[Stage 10:==============================================>       (174 + 1) / 200]\r",
      "[Stage 10:=================================================>    (184 + 1) / 200]\r",
      "[Stage 10:=====================================================>(197 + 1) / 200]\r",
      "                                                                                \r",
      "\r",
      "[Stage 12:>                                                         (0 + 1) / 2]\r",
      "[Stage 12:=============================>                            (1 + 1) / 2]\r",
      "[Stage 13:===========>                                           (43 + 1) / 200]\r",
      "[Stage 13:===============>                                       (57 + 1) / 200]\r",
      "[Stage 13:===================>                                   (72 + 1) / 200]\r",
      "[Stage 13:========================>                              (88 + 1) / 200]\r",
      "[Stage 13:============================>                         (104 + 1) / 200]\r",
      "[Stage 13:================================>                     (121 + 1) / 200]\r",
      "[Stage 13:===================================>                  (133 + 1) / 200]\r",
      "[Stage 13:=======================================>              (146 + 1) / 200]\r",
      "[Stage 13:===========================================>          (161 + 1) / 200]\r",
      "[Stage 13:==============================================>       (174 + 1) / 200]\r",
      "[Stage 13:===================================================>  (190 + 1) / 200]\r",
      "                                                                                \r",
      "\r",
      "[Stage 15:>                                                         (0 + 1) / 2]\r",
      "[Stage 15:=============================>                            (1 + 1) / 2]\r",
      "[Stage 16:>                                                         (0 + 1) / 1]\r",
      "                                                                                \r"
     ]
    }
   ],
   "source": [
    "%%sh\n",
    "python convert.py"
   ]
  },
  {
   "cell_type": "code",
   "execution_count": 3,
   "metadata": {},
   "outputs": [
    {
     "data": {
      "application/javascript": [
       "IPython.OutputArea.auto_scroll_threshold = 9999;\n"
      ],
      "text/plain": [
       "<IPython.core.display.Javascript object>"
      ]
     },
     "metadata": {},
     "output_type": "display_data"
    }
   ],
   "source": [
    "%%javascript\n",
    "IPython.OutputArea.auto_scroll_threshold = 9999;"
   ]
  },
  {
   "cell_type": "code",
   "execution_count": 4,
   "metadata": {
    "pycharm": {
     "is_executing": false
    }
   },
   "outputs": [
    {
     "data": {
      "text/html": [
       "<style>.container { width:100% !important; }</style>"
      ],
      "text/plain": [
       "<IPython.core.display.HTML object>"
      ]
     },
     "metadata": {},
     "output_type": "display_data"
    }
   ],
   "source": [
    "from IPython.core.display import display, HTML\n",
    "display(HTML(\"<style>.container { width:100% !important; }</style>\"))\n"
   ]
  },
  {
   "cell_type": "code",
   "execution_count": 5,
   "metadata": {},
   "outputs": [
    {
     "name": "stdout",
     "output_type": "stream",
     "text": [
      "Requirement already satisfied: plotly in /opt/conda/lib/python3.7/site-packages (4.5.4)\n",
      "Requirement already satisfied: six in /opt/conda/lib/python3.7/site-packages (from plotly) (1.14.0)\n",
      "Requirement already satisfied: retrying>=1.3.3 in /opt/conda/lib/python3.7/site-packages (from plotly) (1.3.3)\n",
      "Note: you may need to restart the kernel to use updated packages.\n"
     ]
    }
   ],
   "source": [
    "pip install plotly"
   ]
  },
  {
   "cell_type": "code",
   "execution_count": 6,
   "metadata": {
    "pycharm": {
     "is_executing": false
    }
   },
   "outputs": [],
   "source": [
    "from pyspark.sql.dataframe import DataFrame\n",
    "import plotly.graph_objects as go\n",
    "\n",
    "DataFrame.old_show = getattr(DataFrame, 'old_show', DataFrame.show)\n",
    "def show(self, n=20, truncate=20):\n",
    "    print(self.count())\n",
    "    self.old_show(n, truncate=truncate)\n",
    "    return self\n",
    "\n",
    "DataFrame.show = show\n",
    "\n",
    "import random\n",
    "def sql(self, q):\n",
    "    name = 'table_{}'.format(random.randint(0000, 9999))\n",
    "    self.createOrReplaceTempView(name)\n",
    "    q = q.format(T=name)\n",
    "    print(q)\n",
    "    return df.sql_ctx.sql(q)\n",
    "DataFrame.sql = sql\n",
    "\n",
    "def plot(df, title, xaxis_title='Дата', yaxis_title='Количество товаров'):\n",
    "    fig = go.Figure()\n",
    "    for row in df.collect():\n",
    "        name = row[0]\n",
    "        first = row[1]\n",
    "        fig.add_trace(go.Scatter(x=data.columns[1:], y=[i/first for i in row[1:]],\n",
    "                            mode='lines+markers',\n",
    "                            name=name))\n",
    "\n",
    "    fig.update_layout(title=title,\n",
    "                      xaxis_title=xaxis_title,\n",
    "                      xaxis_tickmode='linear',\n",
    "                      yaxis_title=yaxis_title)\n",
    "    fig.show()\n",
    "\n",
    "DataFrame.plot = plot"
   ]
  },
  {
   "cell_type": "code",
   "execution_count": 7,
   "metadata": {
    "pycharm": {
     "is_executing": false,
     "name": "#%%\n"
    }
   },
   "outputs": [
    {
     "name": "stdout",
     "output_type": "stream",
     "text": [
      "826431\n",
      "+-----+--------------------+------+------+---------+------------+----------------+--------+---+----------+------+--------------------+--------------------+----------+\n",
      "| shop|                name|weight| price|old_price|price_per_kg|old_price_per_kg|discount|cat|product_id|  type|              datetm|                 url|      date|\n",
      "+-----+--------------------+------+------+---------+------------+----------------+--------+---+----------+------+--------------------+--------------------+----------+\n",
      "|metro|Проростки Микс Кр...|    70|169.89|     null|      2427.0|            null|    null|  1|    123000| piece|2020-03-16 19:36:...|/products/30784-p...|2020-03-16|\n",
      "|metro|Чай черный байхов...|   100| 799.0|     null|      7990.0|            null|    null| 12|    123492| piece|2020-03-16 19:42:...|/products/16059-c...|2020-03-16|\n",
      "|metro|Оливки с перцем T...|   300|  85.0|     null|      283.33|            null|    null|  7|    124369| piece|2020-03-16 20:09:...|/products/17355-o...|2020-03-16|\n",
      "|metro|Огурчики хрустящи...|   680| 147.0|     null|      216.18|            null|    null|  7|    124525| piece|2020-03-16 20:09:...|/products/2285-og...|2020-03-16|\n",
      "|metro|Маринад для барбе...|   300| 111.0|     null|       370.0|            null|    null| 13|    125490| piece|2020-03-16 19:42:...|/products/4520-ma...|2020-03-16|\n",
      "|metro|Десерт X-Pop фрук...|    65|  36.0|    47.38|      553.85|        728.9231|   24.02|  2|    125645| piece|2020-03-16 19:56:...|/products/31695-d...|2020-03-16|\n",
      "|metro|Судак мелкий нера...|  1000| 279.0|     null|       279.0|            null|    null|  5|    125863|weight|2020-03-16 20:07:...|/products/12479-s...|2020-03-16|\n",
      "|metro|Колбаса п/к Салям...|   740| 499.0|     null|      674.32|            null|    null|  4|    125917| piece|2020-03-16 20:06:...|/products/32262-k...|2020-03-16|\n",
      "|metro|Чай зеленый jasmi...|   200| 329.0|     null|      1645.0|            null|    null| 12|    126048| piece|2020-03-16 19:42:...|/products/173-cha...|2020-03-16|\n",
      "|metro|Хлеб зерновой ржа...|   330| 115.0|     null|      348.48|            null|    null|  8|    126932| piece|2020-03-16 20:10:...|/products/15282-h...|2020-03-16|\n",
      "|metro|Горчица Классичес...|   185| 125.0|     null|      675.68|            null|    null| 13|    126970| piece|2020-03-16 22:56:...|/products/775-gor...|2020-03-16|\n",
      "|metro|Мицеллярная вода ...|   400| 215.0|   317.02|       537.5|          792.55|   32.18| 15|    127246| piece|2020-03-16 19:47:...|/products/37638-m...|2020-03-16|\n",
      "|metro|Сливки стерилизов...|   735| 134.0|     null|      182.31|            null|    null|  2|    128066| piece|2020-03-16 19:59:...|/products/5675-sl...|2020-03-16|\n",
      "|metro|Мусс для волос су...|   200| 261.0|     null|      1305.0|            null|    null| 15|    128642| piece|2020-03-16 23:00:...|/products/990-mus...|2020-03-16|\n",
      "|metro|Пицца Ristorante ...|   335| 276.0|     null|      823.88|            null|    null|  6|    128812| piece|2020-03-16 20:08:...|/products/803-pit...|2020-03-16|\n",
      "|metro|Сыр Голландский 4...|   220| 185.0|     null|      840.91|            null|    null|  2|    128856| piece|2020-03-16 19:59:...|/products/27095-s...|2020-03-16|\n",
      "|metro|Сосиски из говяди...|   470| 336.0|     null|      714.89|            null|    null|  4|    128922| piece|2020-03-16 20:06:...|/products/11967-s...|2020-03-16|\n",
      "|metro|Сметана из Вологд...|   250| 112.0|     null|       448.0|            null|    null|  2|    129076| piece|2020-03-16 19:57:...|/products/1650-sm...|2020-03-16|\n",
      "|metro|Коктейль из мореп...|   430| 325.0|     null|      755.81|            null|    null|  5|    129409| piece|2020-03-16 20:07:...|/products/1342-ko...|2020-03-16|\n",
      "|metro|Сметана 30% ТМ Pr...|   180|  60.0|     null|      333.33|            null|    null|  2|    129626| piece|2020-03-16 19:57:...|/products/18505-s...|2020-03-16|\n",
      "+-----+--------------------+------+------+---------+------------+----------------+--------+---+----------+------+--------------------+--------------------+----------+\n",
      "only showing top 20 rows\n",
      "\n"
     ]
    }
   ],
   "source": [
    "from pyspark.sql import SparkSession\n",
    "from pyspark.sql.types import IntegerType, FloatType, StringType, DateType\n",
    "from pyspark.sql import functions as F\n",
    "spark = SparkSession.builder.getOrCreate()\n",
    "\n",
    "df = spark.read.parquet('store').withColumn('date', F.col('datetm').cast(DateType())).show()\n",
    "\n"
   ]
  },
  {
   "cell_type": "code",
   "execution_count": 8,
   "metadata": {},
   "outputs": [
    {
     "name": "stdout",
     "output_type": "stream",
     "text": [
      "15\n",
      "+----------+-----+\n",
      "|      date|count|\n",
      "+----------+-----+\n",
      "|2020-03-17|55649|\n",
      "|2020-03-25|55569|\n",
      "|2020-03-26|55543|\n",
      "|2020-03-16|55485|\n",
      "|2020-04-02|55449|\n",
      "|2020-04-05|55375|\n",
      "|2020-03-22|55339|\n",
      "|2020-03-21|55251|\n",
      "|2020-04-01|55246|\n",
      "|2020-03-19|55091|\n",
      "|2020-03-24|55068|\n",
      "|2020-03-23|55000|\n",
      "|2020-03-31|54505|\n",
      "|2020-03-18|54192|\n",
      "|2020-03-30|53669|\n",
      "+----------+-----+\n",
      "\n"
     ]
    },
    {
     "data": {
      "text/plain": [
       "DataFrame[date: date, count: bigint]"
      ]
     },
     "execution_count": 8,
     "metadata": {},
     "output_type": "execute_result"
    }
   ],
   "source": [
    "df.groupBy('date').count().sort(F.desc('count')).show()"
   ]
  },
  {
   "cell_type": "code",
   "execution_count": 9,
   "metadata": {
    "pycharm": {
     "is_executing": false,
     "name": "#%%\n"
    }
   },
   "outputs": [
    {
     "name": "stdout",
     "output_type": "stream",
     "text": [
      "4\n",
      "+-------+----------+----------+----------+----------+----------+----------+----------+----------+----------+----------+----------+----------+----------+----------+----------+\n",
      "|   shop|2020-03-16|2020-03-17|2020-03-18|2020-03-19|2020-03-21|2020-03-22|2020-03-23|2020-03-24|2020-03-25|2020-03-26|2020-03-30|2020-03-31|2020-04-01|2020-04-02|2020-04-05|\n",
      "+-------+----------+----------+----------+----------+----------+----------+----------+----------+----------+----------+----------+----------+----------+----------+----------+\n",
      "| prisma|      8991|      8689|      8629|      8660|      8680|      9008|      8929|      8919|      9045|      8946|      8588|      8927|      8997|      8883|      9017|\n",
      "|  metro|     19599|     19645|     19365|     19702|     19727|     19610|     19553|     19540|     19686|     19783|     19004|     19287|     19718|     19843|     19700|\n",
      "|karusel|     12501|     13139|     12450|     12642|     12803|     12711|     12459|     12557|     12756|     12656|     12468|     12356|     12516|     12661|     12593|\n",
      "|  lenta|     14394|     14176|     13748|     14087|     14041|     14010|     14059|     14052|     14082|     14158|     13609|     13935|     14015|     14062|     14065|\n",
      "+-------+----------+----------+----------+----------+----------+----------+----------+----------+----------+----------+----------+----------+----------+----------+----------+\n",
      "\n"
     ]
    },
    {
     "ename": "NameError",
     "evalue": "name 'data' is not defined",
     "output_type": "error",
     "traceback": [
      "\u001b[0;31m---------------------------------------------------------------------------\u001b[0m",
      "\u001b[0;31mNameError\u001b[0m                                 Traceback (most recent call last)",
      "\u001b[0;32m<ipython-input-9-a2700135b77e>\u001b[0m in \u001b[0;36m<module>\u001b[0;34m\u001b[0m\n\u001b[1;32m      1\u001b[0m \u001b[0mdf\u001b[0m\u001b[0;34m.\u001b[0m\u001b[0mgroupBy\u001b[0m\u001b[0;34m(\u001b[0m\u001b[0;34m\"shop\"\u001b[0m\u001b[0;34m)\u001b[0m\u001b[0;34m.\u001b[0m\u001b[0mpivot\u001b[0m\u001b[0;34m(\u001b[0m\u001b[0;34m\"date\"\u001b[0m\u001b[0;34m)\u001b[0m\u001b[0;34m.\u001b[0m\u001b[0magg\u001b[0m\u001b[0;34m(\u001b[0m\u001b[0mF\u001b[0m\u001b[0;34m.\u001b[0m\u001b[0mcount\u001b[0m\u001b[0;34m(\u001b[0m\u001b[0;34m'product_id'\u001b[0m\u001b[0;34m)\u001b[0m\u001b[0;34m)\u001b[0m\u001b[0;34m.\u001b[0m\u001b[0mpersist\u001b[0m\u001b[0;34m(\u001b[0m\u001b[0;34m)\u001b[0m\u001b[0;31m \u001b[0m\u001b[0;31m\\\u001b[0m\u001b[0;34m\u001b[0m\u001b[0;34m\u001b[0m\u001b[0m\n\u001b[0;32m----> 2\u001b[0;31m     \u001b[0;34m.\u001b[0m\u001b[0mshow\u001b[0m\u001b[0;34m(\u001b[0m\u001b[0;34m)\u001b[0m\u001b[0;34m.\u001b[0m\u001b[0mplot\u001b[0m\u001b[0;34m(\u001b[0m\u001b[0mtitle\u001b[0m\u001b[0;34m=\u001b[0m\u001b[0;34m'Total products per shop'\u001b[0m\u001b[0;34m,\u001b[0m \u001b[0mxaxis_title\u001b[0m\u001b[0;34m=\u001b[0m\u001b[0;34m'Count'\u001b[0m\u001b[0;34m)\u001b[0m\u001b[0;34m\u001b[0m\u001b[0;34m\u001b[0m\u001b[0m\n\u001b[0m",
      "\u001b[0;32m<ipython-input-6-0a5d693730ca>\u001b[0m in \u001b[0;36mplot\u001b[0;34m(df, title, xaxis_title, yaxis_title)\u001b[0m\n\u001b[1;32m     24\u001b[0m         \u001b[0mname\u001b[0m \u001b[0;34m=\u001b[0m \u001b[0mrow\u001b[0m\u001b[0;34m[\u001b[0m\u001b[0;36m0\u001b[0m\u001b[0;34m]\u001b[0m\u001b[0;34m\u001b[0m\u001b[0;34m\u001b[0m\u001b[0m\n\u001b[1;32m     25\u001b[0m         \u001b[0mfirst\u001b[0m \u001b[0;34m=\u001b[0m \u001b[0mrow\u001b[0m\u001b[0;34m[\u001b[0m\u001b[0;36m1\u001b[0m\u001b[0;34m]\u001b[0m\u001b[0;34m\u001b[0m\u001b[0;34m\u001b[0m\u001b[0m\n\u001b[0;32m---> 26\u001b[0;31m         fig.add_trace(go.Scatter(x=data.columns[1:], y=[i/first for i in row[1:]],\n\u001b[0m\u001b[1;32m     27\u001b[0m                             \u001b[0mmode\u001b[0m\u001b[0;34m=\u001b[0m\u001b[0;34m'lines+markers'\u001b[0m\u001b[0;34m,\u001b[0m\u001b[0;34m\u001b[0m\u001b[0;34m\u001b[0m\u001b[0m\n\u001b[1;32m     28\u001b[0m                             name=name))\n",
      "\u001b[0;31mNameError\u001b[0m: name 'data' is not defined"
     ]
    }
   ],
   "source": [
    "df.groupBy(\"shop\").pivot(\"date\").agg(F.count('product_id')).persist() \\\n",
    "    .show().plot(title='Total products per shop', xaxis_title='Count')\n"
   ]
  },
  {
   "cell_type": "code",
   "execution_count": null,
   "metadata": {
    "pycharm": {
     "is_executing": false,
     "name": "#%%\n"
    }
   },
   "outputs": [],
   "source": [
    "df.where('old_price is not null').groupBy(\"shop\").pivot(\"date\").agg(F.count('product_id')).persist() \\\n",
    "    .show().plot(title='Total products with discounts ', xaxis_title='Count')"
   ]
  },
  {
   "cell_type": "code",
   "execution_count": null,
   "metadata": {},
   "outputs": [],
   "source": [
    "df.groupBy(\"shop\").pivot(\"date\").agg(F.sum('price')/F.count('product_id')).cache() \\\n",
    "    .show().plot(title='Average price per shop', xaxis_title='Count')"
   ]
  }
 ],
 "metadata": {
  "kernelspec": {
   "display_name": "Python 3",
   "language": "python",
   "name": "python3"
  },
  "language_info": {
   "codemirror_mode": {
    "name": "ipython",
    "version": 3
   },
   "file_extension": ".py",
   "mimetype": "text/x-python",
   "name": "python",
   "nbconvert_exporter": "python",
   "pygments_lexer": "ipython3",
   "version": "3.7.6"
  },
  "pycharm": {
   "stem_cell": {
    "cell_type": "raw",
    "metadata": {
     "collapsed": false
    },
    "source": []
   }
  }
 },
 "nbformat": 4,
 "nbformat_minor": 4
}
