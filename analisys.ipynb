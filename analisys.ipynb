{
 "cells": [
  {
   "cell_type": "code",
   "execution_count": 2,
   "metadata": {},
   "outputs": [
    {
     "name": "stdout",
     "output_type": "stream",
     "text": [
      "Read 108984 records\n",
      "root\n",
      " |-- cat: string (nullable = true)\n",
      " |-- data-amount: string (nullable = true)\n",
      " |-- data-energy-drink: string (nullable = true)\n",
      " |-- data-group-quantity: string (nullable = true)\n",
      " |-- data-item-weight: string (nullable = true)\n",
      " |-- data-old-price: string (nullable = true)\n",
      " |-- data-old-price-per-kg: string (nullable = true)\n",
      " |-- data-price: string (nullable = true)\n",
      " |-- data-price-per-kg: string (nullable = true)\n",
      " |-- data-product-id: string (nullable = true)\n",
      " |-- data-type: string (nullable = true)\n",
      " |-- data-weight: string (nullable = true)\n",
      " |-- datetm: string (nullable = true)\n",
      " |-- name: string (nullable = true)\n",
      " |-- shop: string (nullable = true)\n",
      " |-- url: string (nullable = true)\n",
      "\n",
      "+-------+--------------------+------+------+---------+------------+----------------+--------+---+----------+-----+--------------------+--------------------+\n",
      "|   shop|                name|weight| price|old_price|price_per_kg|old_price_per_kg|discount|cat|product_id| type|              datetm|                 url|\n",
      "+-------+--------------------+------+------+---------+------------+----------------+--------+---+----------+-----+--------------------+--------------------+\n",
      "|  metro| Антиперспирант-к...|    49| 190.0|     null|     3877.55|            null|    null|140|    137598|piece|2020-03-15 19:09:...|/products/35828-a...|\n",
      "|karusel| Антиперспирант-к...|    49|199.99|     null|     4081.43|            null|    null| 15|   1007746|piece|2020-03-15 21:40:...|/products/35828-a...|\n",
      "|karusel| Антиперспирант-к...|    49|199.99|     null|     4081.43|            null|    null|140|   1007746|piece|2020-03-15 21:44:...|/products/35828-a...|\n",
      "|karusel| Бальзам для особ...|   225| 97.99|     null|      435.51|            null|    null| 15|   1019125|piece|2020-03-15 21:39:...|/products/69880-b...|\n",
      "|karusel| Бальзам для особ...|   225| 97.99|     null|      435.51|            null|    null|134|   1019125|piece|2020-03-15 21:42:...|/products/69880-b...|\n",
      "|  metro| Банановое суфле ...|   500| 175.0|     null|       350.0|            null|    null|  9|   4724868|piece|2020-03-15 18:29:...|/products/158824-...|\n",
      "|  metro| Банановое суфле ...|   500| 175.0|     null|       350.0|            null|    null| 86|   4724868|piece|2020-03-15 18:34:...|/products/158824-...|\n",
      "|  metro| Бесшумная клейка...|    50| 109.0|     null|      2180.0|            null|    null|178|    247860|piece|2020-03-15 19:19:...|/products/41054-b...|\n",
      "|  metro| Бесшумная клейка...|    50| 109.0|     null|      2180.0|            null|    null|183|    247860|piece|2020-03-15 19:22:...|/products/41054-b...|\n",
      "|karusel| Био-скраб для те...|   390|223.99|     null|      574.33|            null|    null|136|   3096863|piece|2020-03-15 21:43:...|/products/123290-...|\n",
      "|karusel| Био-скраб для те...|   390|223.99|     null|      574.33|            null|    null| 15|   3096863|piece|2020-03-15 21:41:...|/products/123290-...|\n",
      "| prisma| Варенье имбирное...|   400| 169.9|     null|      424.75|            null|    null|  7|   1092673|piece|2020-03-15 19:51:...|/products/72025-v...|\n",
      "|  lenta| Витаминный напит...|   500|157.89|     null|      315.78|            null|    null|247|   3745705|piece|2020-03-15 21:11:...|/products/133869-...|\n",
      "|  lenta| Гель для душа де...|   246|146.31|     null|      594.76|            null|    null| 14|    902560|piece|2020-03-15 21:01:...|/products/67116-g...|\n",
      "|  lenta| Гель для душа де...|   246|146.31|     null|      594.76|            null|    null|122|    902560|piece|2020-03-15 21:01:...|/products/67116-g...|\n",
      "|  metro| Гель для стирки ...|  1500| 514.0|     null|      342.67|            null|    null| 16|   4787946|piece|2020-03-15 18:56:...|/products/160509-...|\n",
      "|  metro| Гель для стирки ...|  1500| 514.0|     null|      342.67|            null|    null|141|   4787946|piece|2020-03-15 18:57:...|/products/160509-...|\n",
      "|  metro| Дезодорант аэроз...|    98| 249.0|     null|     2540.82|            null|    null| 15|    127207|piece|2020-03-15 19:02:...|/products/34747-d...|\n",
      "| prisma| Дезодорант аэроз...|    98| 219.9|    289.9|     2243.88|       2958.1633|   24.15|140|    220795|piece|2020-03-15 20:02:...|/products/34747-d...|\n",
      "|karusel| Дезодорант аэроз...|    98|256.99|     null|     2622.35|            null|    null|140|   1006082|piece|2020-03-15 21:44:...|/products/34747-d...|\n",
      "+-------+--------------------+------+------+---------+------------+----------------+--------+---+----------+-----+--------------------+--------------------+\n",
      "only showing top 20 rows\n",
      "\n"
     ]
    },
    {
     "name": "stderr",
     "output_type": "stream",
     "text": [
      "20/03/16 17:46:36 WARN NativeCodeLoader: Unable to load native-hadoop library for your platform... using builtin-java classes where applicable\n",
      "Using Spark's default log4j profile: org/apache/spark/log4j-defaults.properties\n",
      "Setting default log level to \"WARN\".\n",
      "To adjust logging level use sc.setLogLevel(newLevel). For SparkR, use setLogLevel(newLevel).\n",
      "\r",
      "[Stage 0:>                                                          (0 + 8) / 8]\r",
      "[Stage 0:=======>                                                   (1 + 7) / 8]\r",
      "                                                                                \r",
      "\r",
      "[Stage 3:=======>                                                   (1 + 7) / 8]\r",
      "[Stage 3:==============>                                            (2 + 6) / 8]\r",
      "                                                                                \r",
      "\r",
      "[Stage 4:>                                                          (0 + 8) / 8]20/03/16 17:46:45 WARN MemoryManager: Total allocation exceeds 95.00% (906,992,014 bytes) of heap memory\n",
      "Scaling row group sizes to 96.54% for 7 writers\n",
      "20/03/16 17:46:45 WARN MemoryManager: Total allocation exceeds 95.00% (906,992,014 bytes) of heap memory\n",
      "Scaling row group sizes to 84.47% for 8 writers\n",
      "20/03/16 17:46:46 WARN MemoryManager: Total allocation exceeds 95.00% (906,992,014 bytes) of heap memory\n",
      "Scaling row group sizes to 96.54% for 7 writers\n",
      "\r",
      "                                                                                \r"
     ]
    }
   ],
   "source": [
    "%%sh\n",
    "python convert_json.py data_20_03_15-17_57_28.json "
   ]
  },
  {
   "cell_type": "code",
   "execution_count": 1,
   "metadata": {
    "pycharm": {
     "is_executing": false
    }
   },
   "outputs": [
    {
     "data": {
      "text/html": [
       "<style>.container { width:100% !important; }</style>"
      ],
      "text/plain": [
       "<IPython.core.display.HTML object>"
      ]
     },
     "metadata": {},
     "output_type": "display_data"
    }
   ],
   "source": [
    "from IPython.core.display import display, HTML\n",
    "display(HTML(\"<style>.container { width:100% !important; }</style>\"))"
   ]
  },
  {
   "cell_type": "code",
   "execution_count": 3,
   "metadata": {
    "pycharm": {
     "is_executing": false
    }
   },
   "outputs": [],
   "source": [
    "def show(df):\n",
    "    print(df.count())\n",
    "    df.show()\n",
    "    return df"
   ]
  },
  {
   "cell_type": "code",
   "execution_count": 4,
   "metadata": {
    "pycharm": {
     "is_executing": false,
     "name": "#%%\n"
    }
   },
   "outputs": [
    {
     "name": "stdout",
     "output_type": "stream",
     "text": [
      "108984\n",
      "+------+--------------------+------+-----+---------+------------+----------------+--------+---+----------+-----+--------------------+--------------------+\n",
      "|  shop|                name|weight|price|old_price|price_per_kg|old_price_per_kg|discount|cat|product_id| type|              datetm|                 url|\n",
      "+------+--------------------+------+-----+---------+------------+----------------+--------+---+----------+-----+--------------------+--------------------+\n",
      "|prisma|Чиабатта в газово...|   250| 99.9|     null|       399.6|            null|    null|  8|    226301|piece|2020-03-15 19:43:...|/products/27683-c...|\n",
      "|prisma|Сдоба Наслаждение...|   230|123.9|     null|       538.7|            null|    null|  8|    536951|piece|2020-03-15 19:43:...|/products/43616-s...|\n",
      "|prisma|Хлебец Подовый с ...|   300| 44.9|     60.9|      149.67|           203.0|   26.27|  8|    222117|piece|2020-03-15 19:43:...|/products/16970-h...|\n",
      "|prisma|Хлебцы порционные...|   240| 65.9|     null|      274.58|            null|    null|  8|    279814|piece|2020-03-15 19:43:...|/products/41082-h...|\n",
      "|prisma|Хлеб Фермерский с...|   330| 49.9|     null|      151.21|            null|    null|  8|   4889978|piece|2020-03-15 19:43:...|/products/73808-h...|\n",
      "|prisma|Хлеб белый pan bl...|   250|213.9|     null|       855.6|            null|    null|  8|   1642249|piece|2020-03-15 19:43:...|/products/85039-h...|\n",
      "|prisma|Пирожок Шереметов...|    70| 27.9|     45.9|      398.57|        655.7143|   39.22|  8|    442326|piece|2020-03-15 19:43:...|/products/43619-p...|\n",
      "|prisma|Хлеб Бородинский ...|   400| 56.9|     null|      142.25|            null|    null|  8|    228278|piece|2020-03-15 19:43:...|/products/27668-h...|\n",
      "|prisma|Сухарики Голландс...|   150|109.9|     null|      732.67|            null|    null|  8|    732154|piece|2020-03-15 19:43:...|/products/64143-s...|\n",
      "|prisma|Мини круассаны с ...|   105| 49.9|     null|      475.24|            null|    null|  8|    707652|piece|2020-03-15 19:43:...|/products/61700-m...|\n",
      "|prisma|Сочень с творожно...|   120| 61.9|     null|      515.83|            null|    null|  8|    225959|piece|2020-03-15 19:43:...|/products/25544-s...|\n",
      "|prisma|Сухарики ржаные Т...|   200|111.9|    149.9|       559.5|           749.5|   25.35|  8|    227035|piece|2020-03-15 19:43:...|/products/27716-s...|\n",
      "|prisma|Хлеб с фундуком, ...|   205|119.9|     null|      584.88|            null|    null|  8|    228728|piece|2020-03-15 19:43:...|/products/27640-h...|\n",
      "|prisma|Краюшки ржано-пше...|   240| 69.9|     null|      291.25|            null|    null|  8|    226036|piece|2020-03-15 19:43:...|/products/1569-kr...|\n",
      "|prisma|Сухарики ржаные Т...|   200|111.9|    149.9|       559.5|           749.5|   25.35|  8|    227035|piece|2020-03-15 19:43:...|/products/27716-s...|\n",
      "|prisma|Хлеб Домашний без...|   400|109.9|     null|      274.75|            null|    null|  8|    228727|piece|2020-03-15 19:43:...|/products/27645-h...|\n",
      "|prisma|Хлеб Английский д...|   200| 29.9|     51.9|       149.5|           259.5|   42.39|  8|    230083|piece|2020-03-15 19:43:...|/products/27614-h...|\n",
      "|prisma|Хлеб с фундуком, ...|   205|119.9|     null|      584.88|            null|    null|  8|    228728|piece|2020-03-15 19:43:...|/products/27640-h...|\n",
      "|prisma|Хлебцы пшеничные ...|   250|199.9|     null|       799.6|            null|    null|  8|    230479|piece|2020-03-15 19:43:...|/products/29608-h...|\n",
      "|prisma|Хлебцы ржаные ТМ ...|   460|239.9|     null|      521.52|            null|    null|  8|   4588126|piece|2020-03-15 19:43:...|/products/156177-...|\n",
      "+------+--------------------+------+-----+---------+------------+----------------+--------+---+----------+-----+--------------------+--------------------+\n",
      "only showing top 20 rows\n",
      "\n"
     ]
    }
   ],
   "source": [
    "from pyspark.sql import SparkSession\n",
    "from pyspark.sql.types import IntegerType, FloatType, StringType\n",
    "spark = SparkSession.builder.getOrCreate()\n",
    "\n",
    "df = show(spark.read.parquet('data.parquet'))\n",
    "\n"
   ]
  },
  {
   "cell_type": "code",
   "execution_count": 5,
   "metadata": {
    "pycharm": {
     "is_executing": false,
     "name": "#%%\n"
    }
   },
   "outputs": [
    {
     "name": "stdout",
     "output_type": "stream",
     "text": [
      "57124\n",
      "+-----+--------------------+------+------+---------+------------+----------------+--------+---+----------+-----+--------------------+--------------------+\n",
      "| shop|                name|weight| price|old_price|price_per_kg|old_price_per_kg|discount|cat|product_id| type|              datetm|                 url|\n",
      "+-----+--------------------+------+------+---------+------------+----------------+--------+---+----------+-----+--------------------+--------------------+\n",
      "|metro|Масло подсолнечно...|   920| 104.0|     null|      113.04|            null|    null| 99|    122548|piece|2020-03-15 18:49:...|/products/1187-ma...|\n",
      "|metro|  Мята ТМ Зеленьторг|   100|159.89|     null|      1598.9|            null|    null|  1|    122853|piece|2020-03-15 17:57:...|/products/3928-my...|\n",
      "|metro|Мороженое эскимо ...|    80| 63.69|    70.79|      796.13|         884.875|   10.03|  2|    122854|piece|2020-03-15 18:04:...|/products/14728-m...|\n",
      "|metro|Чай черный байхов...|   250| 194.9|    369.0|       779.6|          1476.0|   47.18| 12|    124269|piece|2020-03-15 18:36:...|/products/322-cha...|\n",
      "|metro|Мыло Банное натур...|   180|  29.0|    44.59|      161.11|       247.72223|   34.96| 15|    124277|piece|2020-03-15 19:01:...|/products/34783-m...|\n",
      "|metro|Сок апельсиновый ...|  1000| 71.89|    105.0|       71.89|           105.0|   31.53| 11|    124417|piece|2020-03-15 18:22:...|/products/18011-s...|\n",
      "|metro|Кофе молотый Qual...|   250| 397.0|     null|      1588.0|            null|    null| 12|    124635|piece|2020-03-15 18:37:...|/products/8272-ko...|\n",
      "|metro|Соус бальзамическ...|   250| 506.0|     null|      2024.0|            null|    null| 13|    124689|piece|2020-03-15 18:51:...|/products/31560-s...|\n",
      "|metro|Говядина охлажден...|  2500|7497.5|     null|      2999.0|            null|    null|  3|    124768| pack|2020-03-15 18:11:...|/products/18261-g...|\n",
      "|metro|Овощные галеты Зе...|   500| 235.0|     null|       470.0|            null|    null|  6|    124778|piece|2020-03-15 18:17:...|/products/4229-ov...|\n",
      "|metro|Конфеты шоколадны...|   150| 245.0|     null|     1633.33|            null|    null|  9|    125856|piece|2020-03-15 18:26:...|/products/17174-k...|\n",
      "|metro|Биоактивная зубна...|   100| 151.0|     null|      1510.0|            null|    null| 15|    126070|piece|2020-03-15 19:04:...|/products/1598-bi...|\n",
      "|metro|Коктейль из мореп...|   400|333.01|     null|      832.53|            null|    null|  5|    126279|piece|2020-03-15 18:12:...|/products/12141-k...|\n",
      "|metro|Корм сухой лакомы...|    30|  21.0|    30.69|       700.0|          1023.0|   31.57| 17|    127259|piece|2020-03-15 19:14:...|/products/2437-ko...|\n",
      "|metro|Гель для душа Niv...|   250| 149.0|    199.0|       596.0|           796.0|   25.13|136|    127326|piece|2020-03-15 19:07:...|/products/15086-g...|\n",
      "|metro|Масло моторное си...|  1000| 619.0|     null|       619.0|            null|    null|176|    127586|piece|2020-03-15 19:17:...|/products/39252-m...|\n",
      "|metro|Шоколад молочный ...|   100|  76.0|     null|       760.0|            null|    null|  9|    127715|piece|2020-03-15 18:30:...|/products/33233-s...|\n",
      "|metro|Шампунь 100% объе...|   380| 169.0|     null|      444.74|            null|    null|134|    128136|piece|2020-03-15 19:06:...|/products/18048-s...|\n",
      "|metro|Йогурт с персиком...|   115| 17.89|    27.39|      155.57|       238.17392|   34.68|  2|    128730|piece|2020-03-15 18:05:...|/products/1738-yo...|\n",
      "|metro|Прищепки деревянн...|   420|  89.0|     null|       211.9|            null|    null| 16|    128837|piece|2020-03-15 18:54:...|/products/8406-pr...|\n",
      "+-----+--------------------+------+------+---------+------------+----------------+--------+---+----------+-----+--------------------+--------------------+\n",
      "only showing top 20 rows\n",
      "\n"
     ]
    }
   ],
   "source": [
    "# drop duplicates\n",
    "df2 = show(df.dropDuplicates(['product_id','shop']))"
   ]
  },
  {
   "cell_type": "code",
   "execution_count": 6,
   "metadata": {
    "pycharm": {
     "is_executing": false,
     "name": "#%%\n"
    }
   },
   "outputs": [],
   "source": [
    "df2.createOrReplaceTempView(\"food\")\n"
   ]
  },
  {
   "cell_type": "code",
   "execution_count": 7,
   "metadata": {
    "pycharm": {
     "is_executing": false,
     "name": "#%%\n"
    }
   },
   "outputs": [
    {
     "name": "stdout",
     "output_type": "stream",
     "text": [
      "4\n",
      "+-------+--------+\n",
      "|   shop|count(1)|\n",
      "+-------+--------+\n",
      "| prisma|    8774|\n",
      "|  metro|   20834|\n",
      "|karusel|   13166|\n",
      "|  lenta|   14350|\n",
      "+-------+--------+\n",
      "\n"
     ]
    },
    {
     "data": {
      "text/plain": [
       "DataFrame[shop: string, count(1): bigint]"
      ]
     },
     "execution_count": 7,
     "metadata": {},
     "output_type": "execute_result"
    }
   ],
   "source": [
    "# total products per shop\n",
    "show(spark.sql(\"SELECT shop, count(*) FROM food group by shop\"))"
   ]
  },
  {
   "cell_type": "code",
   "execution_count": 8,
   "metadata": {
    "pycharm": {
     "is_executing": false,
     "name": "#%%\n"
    }
   },
   "outputs": [
    {
     "name": "stdout",
     "output_type": "stream",
     "text": [
      "4\n",
      "+-------+--------+\n",
      "|   shop|count(1)|\n",
      "+-------+--------+\n",
      "| prisma|     922|\n",
      "|  metro|    2862|\n",
      "|karusel|    2009|\n",
      "|  lenta|    1492|\n",
      "+-------+--------+\n",
      "\n"
     ]
    },
    {
     "data": {
      "text/plain": [
       "DataFrame[shop: string, count(1): bigint]"
      ]
     },
     "execution_count": 8,
     "metadata": {},
     "output_type": "execute_result"
    }
   ],
   "source": [
    "# total products with discounts per shop \n",
    "show(spark.sql(\"SELECT shop, count(*) FROM food where old_price is not null group by shop\"))"
   ]
  },
  {
   "cell_type": "code",
   "execution_count": 9,
   "metadata": {
    "pycharm": {
     "is_executing": false,
     "name": "#%%\n"
    }
   },
   "outputs": [
    {
     "name": "stdout",
     "output_type": "stream",
     "text": [
      "964\n",
      "+--------------------+------+-------+-------+-------+-------+-----------+-----------+-----------+-----------+\n",
      "|                name|weight|m_price|l_price|k_price|p_price|m_old_price|l_old_price|k_old_price|p_old_price|\n",
      "+--------------------+------+-------+-------+-------+-------+-----------+-----------+-----------+-----------+\n",
      "|Овощные галеты Зе...|   500|  235.0| 242.79| 259.99|  179.9|       null|       null|       null|      242.9|\n",
      "|Биоактивная зубна...|   100|  151.0|  88.99| 149.99|  184.9|       null|     157.69|       null|       null|\n",
      "|Шоколад молочный ...|   100|   76.0|  49.89|  85.99|  104.9|       null|      88.39|       null|       null|\n",
      "|Кофе в зернах Pre...|   250|  307.0| 198.89| 351.99|  419.9|       null|     378.99|       null|       null|\n",
      "|Средство для мыть...|   500|  130.0| 146.39|  99.99|  159.9|       null|       null|     146.99|       null|\n",
      "|Фруктовое пюре из...|   100|   36.0|  37.79|  37.99|   38.9|       null|       null|       null|       null|\n",
      "|Драже с арахисом ...|    45|   38.0|  33.29|  34.99|   47.9|       null|       null|       null|       null|\n",
      "|Смесь мучная хлеб...|   400|   85.0|  91.49|  89.99|   92.9|       null|       null|       null|       null|\n",
      "|Мороженое эскимо ...|    74|  81.48|  49.89|  44.99|   89.9|       null|      78.99|      68.99|       null|\n",
      "|Нектар из бананов...|   200|   29.0|  30.59|  28.99|   22.0|       null|       null|       null|       31.9|\n",
      "|Презервативы ульт...|    40|  756.0| 769.79|  795.0|  889.9|       null|       null|       null|       null|\n",
      "|Сильногазированны...|  1500|   93.0| 103.49|  59.99|  119.9|       null|       null|     106.99|       null|\n",
      "|Дезодорант аэрозо...|    98|  253.0| 266.49| 256.99|  219.9|       null|       null|       null|      289.9|\n",
      "|Антиперспирант Не...|   150|   99.0|  88.99|  99.99|  204.9|      164.0|     168.69|     163.99|       null|\n",
      "|Кусочки сельди Ма...|   260|  99.01| 157.79| 149.99|  199.0|      155.0|       null|       null|       null|\n",
      "|Шампунь против пе...|   419|  324.0| 344.29| 337.99|  369.9|       null|       null|       null|       null|\n",
      "|Сыр мягкий сливоч...|   100|   60.0|  57.89|  56.99|   99.9|       null|       null|       null|       null|\n",
      "|Драже ТМ M&M's (Э...|   130|   98.0| 107.69|  94.99|   99.9|       null|       null|       null|       null|\n",
      "|Напиток тонизирую...|   250|   54.9|  97.59|  74.99|  104.9|       90.0|       null|       null|       null|\n",
      "|Пюре из яблок и п...|   250|  61.78|  51.99|  59.99|   63.9|       null|       null|       null|       null|\n",
      "+--------------------+------+-------+-------+-------+-------+-----------+-----------+-----------+-----------+\n",
      "only showing top 20 rows\n",
      "\n"
     ]
    }
   ],
   "source": [
    "#joining tables\n",
    "q = '''SELECT m.name, m.weight, m.price m_price, l.price l_price, k.price k_price, p.price p_price,\n",
    "        m.old_price m_old_price, l.old_price l_old_price, k.old_price k_old_price, p.old_price p_old_price\n",
    "        FROM (select * from food where shop='metro') as m\n",
    "        INNER JOIN (select * from food where shop='lenta') as l\n",
    "            ON m.url=l.url\n",
    "        INNER JOIN (select * from food where shop='karusel') as k\n",
    "            ON m.url=k.url\n",
    "        INNER JOIN (select * from food where shop='prisma') as p\n",
    "            ON m.url=p.url\n",
    "            \n",
    "'''\n",
    "joined = show(spark.sql(q).cache())\n",
    "joined.coalesce(1).write.csv('joined.csv', mode='overwrite', sep='\\t', nullValue = '\\u0000',\n",
    "    emptyValue = '\\u0000', header=True)\n",
    "joined.createOrReplaceTempView('joined')\n"
   ]
  },
  {
   "cell_type": "code",
   "execution_count": 10,
   "metadata": {
    "pycharm": {
     "is_executing": false,
     "name": "#%%\n"
    }
   },
   "outputs": [
    {
     "name": "stdout",
     "output_type": "stream",
     "text": [
      "1\n",
      "+-----------------+-----------------+-----------------+-----------------+\n",
      "|     sum(m_price)|     sum(l_price)|     sum(k_price)|     sum(p_price)|\n",
      "+-----------------+-----------------+-----------------+-----------------+\n",
      "|76482.74999523163|78939.19991779327|76190.60993289948|86779.39966773987|\n",
      "+-----------------+-----------------+-----------------+-----------------+\n",
      "\n"
     ]
    },
    {
     "data": {
      "text/plain": [
       "DataFrame[sum(m_price): double, sum(l_price): double, sum(k_price): double, sum(p_price): double]"
      ]
     },
     "execution_count": 10,
     "metadata": {},
     "output_type": "execute_result"
    }
   ],
   "source": [
    "# sum of prices ignore discounts\n",
    "show(spark.sql('select sum(m_price),sum(l_price),sum(k_price),sum(p_price) from joined where  m_old_price IS NULL AND  l_old_price IS NULL AND k_old_price IS  NULL AND p_old_price IS  NULL'))"
   ]
  },
  {
   "cell_type": "code",
   "execution_count": 11,
   "metadata": {
    "pycharm": {
     "is_executing": false,
     "name": "#%%\n"
    }
   },
   "outputs": [
    {
     "name": "stdout",
     "output_type": "stream",
     "text": [
      "1\n",
      "+------------------+------------------+-----------------+------------------+\n",
      "|      sum(m_price)|      sum(l_price)|     sum(k_price)|      sum(p_price)|\n",
      "+------------------+------------------+-----------------+------------------+\n",
      "|152692.18993282318|165778.82007026672|152971.6798429489|180685.98883247375|\n",
      "+------------------+------------------+-----------------+------------------+\n",
      "\n"
     ]
    },
    {
     "data": {
      "text/plain": [
       "DataFrame[sum(m_price): double, sum(l_price): double, sum(k_price): double, sum(p_price): double]"
      ]
     },
     "execution_count": 11,
     "metadata": {},
     "output_type": "execute_result"
    }
   ],
   "source": [
    "# sum of prices\n",
    "show(spark.sql('select sum(m_price),sum(l_price),sum(k_price),sum(p_price) from joined'))\n"
   ]
  }
 ],
 "metadata": {
  "kernelspec": {
   "display_name": "Python 3",
   "language": "python",
   "name": "python3"
  },
  "language_info": {
   "codemirror_mode": {
    "name": "ipython",
    "version": 3
   },
   "file_extension": ".py",
   "mimetype": "text/x-python",
   "name": "python",
   "nbconvert_exporter": "python",
   "pygments_lexer": "ipython3",
   "version": "3.7.6"
  },
  "pycharm": {
   "stem_cell": {
    "cell_type": "raw",
    "metadata": {
     "collapsed": false
    },
    "source": []
   }
  }
 },
 "nbformat": 4,
 "nbformat_minor": 4
}
